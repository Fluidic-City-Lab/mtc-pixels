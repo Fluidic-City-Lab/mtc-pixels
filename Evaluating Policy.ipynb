{
 "cells": [
  {
   "cell_type": "code",
   "execution_count": 1,
   "id": "02c712e1",
   "metadata": {
    "scrolled": true
   },
   "outputs": [
    {
     "name": "stdout",
     "output_type": "stream",
     "text": [
      "2022-07-05 09:21:28,341\tWARNING services.py:597 -- setpgrp failed, processes may not be cleaned up properly: [Errno 1] Operation not permitted.\n",
      "2022-07-05 09:21:28,341\tINFO resource_spec.py:216 -- Starting Ray with 11.18 GiB memory available for workers and up to 5.59 GiB for objects. You can adjust these settings with ray.init(memory=<bytes>, object_store_memory=<bytes>).\n",
      "2022-07-05 09:21:28,639\tINFO trainer.py:371 -- Tip: set 'eager': true or the --eager flag to enable TensorFlow eager execution\n",
      "2022-07-05 09:21:28,643\tINFO trainer.py:512 -- Current log_level is WARN. For more information, set 'log_level': 'INFO' / 'DEBUG' or use the -v and -vv flags.\n",
      "2022-07-05 09:31:29,761\tINFO trainable.py:102 -- _setup took 601.119 seconds. If your trainable is slow to initialize, consider setting reuse_actors=True to reduce actor creation overheads.\n",
      "2022-07-05 09:31:29,762\tWARNING util.py:45 -- Install gputil for GPU system monitoring.\n",
      "2022-07-05 09:31:29,807\tINFO trainable.py:346 -- Restored from checkpoint: /home/michael/ray_results/stabilizing_the_ring/PPO_WaveAttenuationPOEnv-v0_5d5b0bf8_2022-07-02_01-51-14gxs473zs/checkpoint_84/checkpoint-84\n",
      "2022-07-05 09:31:29,807\tINFO trainable.py:353 -- Current state after restoring: {'_iteration': 84, '_timesteps_total': 3360000, '_time_total': 103579.57034063339, '_episodes_total': 840}\n",
      "\n",
      "-----------------------\n",
      "ring length: 254\n",
      "v_max: 4.854791141191876\n",
      "-----------------------\n",
      "Round 0, Return: -7091.880758001022\n",
      "==== Summary of results ====\n",
      "Return:\n",
      "[3.2729908851187144]\n",
      "[-7091.880758001022]\n",
      "Average, std: -7091.880758001022, 0.0\n",
      "\n",
      "Speed, mean (m/s):\n",
      "[3.2729908851187144]\n",
      "Average, std: 3.2729908851187144, 0.0\n",
      "\n",
      "Speed, std (m/s):\n",
      "[0.7318020453508962]\n",
      "Average, std: 0.7318020453508962, 0.0\n",
      "\n",
      "Outflows (veh/hr):\n",
      "[0.0]\n",
      "Average, std: 0.0, 0.0\n",
      "Inflows (veh/hr):\n",
      "[0.0]\n",
      "Average, std: 0.0, 0.0\n",
      "Throughput efficiency (veh/hr):\n",
      "[0]\n",
      "Average, std: 0.0, 0.0\n"
     ]
    }
   ],
   "source": [
    "!python flow/visualize/visualizer_rllib.py\\\n",
    "/home/michael/ray_results/stabilizing_the_ring/PPO_WaveAttenuationPOEnv-v0_5d5b0bf8_2022-07-02_01-51-14gxs473zs 84"
   ]
  },
  {
   "cell_type": "markdown",
   "id": "b14d89b2",
   "metadata": {},
   "source": [
    "## Mean and Min for Last 100 Seconds"
   ]
  },
  {
   "cell_type": "code",
   "execution_count": null,
   "id": "f85d9435",
   "metadata": {},
   "outputs": [],
   "source": [
    "import numpy as np\n",
    "\n",
    "with open(f\"/home/michael/Desktop/flow/michael_files/avg_velocity.txt\", \"r+\") as f:\n",
    "    for line in f:\n",
    "        data = line.strip(\",\")\n",
    "        data = line.split(\",\")\n",
    "        data = np.asarray([float(i) for i in data])\n",
    "        mean_last_100_seconds = np.mean(data[-1000:])\n",
    "        print(f\"Mean Last 100 Seconds: {mean_last_100_seconds}\")\n",
    "        with open(f\"/home/michael/Desktop/flow/michael_files/last_100_seconds.txt\", \"a\") as g:\n",
    "            g.write(f\"Mean Last 100 Seconds: {mean_last_100_seconds}\\n\")"
   ]
  },
  {
   "cell_type": "code",
   "execution_count": null,
   "id": "f8bc7614",
   "metadata": {},
   "outputs": [],
   "source": [
    "import numpy as np\n",
    "\n",
    "with open(f\"/home/michael/Desktop/flow/michael_files/min_velocity.txt\", \"r+\") as f:\n",
    "    for line in f:\n",
    "        data = line.strip(\",\")\n",
    "        data = line.split(\",\")\n",
    "        data = np.asarray([float(i) for i in data])\n",
    "        min_last_100_seconds = np.min(data[-1000:])\n",
    "        print(f\"Min Last 100 Seconds: {min_last_100_seconds}\")\n",
    "        with open(f\"/home/michael/Desktop/flow/michael_files/last_100_seconds.txt\", \"a\") as g:\n",
    "            g.write(f\"Min Last 100 Seconds: {min_last_100_seconds}\\n\")"
   ]
  },
  {
   "cell_type": "markdown",
   "id": "d53987b3",
   "metadata": {},
   "source": [
    "## Charting Avg. Velocity for All Vehicles"
   ]
  },
  {
   "cell_type": "code",
   "execution_count": null,
   "id": "1b0d6f21",
   "metadata": {},
   "outputs": [],
   "source": [
    "import numpy as np\n",
    "import matplotlib.pyplot as plt\n",
    "\n",
    "with open(f\"/home/michael/Desktop/flow/michael_files/avg_velocity.txt\", \"r+\") as f:\n",
    "    for line in f:\n",
    "        data = line.strip(\",\")\n",
    "        data = line.split(\",\")\n",
    "        data = np.asarray([float(i) for i in data])\n",
    "\n",
    "fig, ax = plt.subplots(figsize=(8,8), dpi=100)\n",
    "xticks = np.arange(0,len(data)+1,500)\n",
    "ax.set_ylabel(\"Avg. Velocity\")\n",
    "ax.set_xlabel(\"Timesteps\")\n",
    "ax.plot(data)\n",
    "ax.set_xticks(xticks) \n",
    "fig.show()"
   ]
  },
  {
   "cell_type": "markdown",
   "id": "5e00782b",
   "metadata": {},
   "source": [
    "## Charting RL Velocity"
   ]
  },
  {
   "cell_type": "code",
   "execution_count": null,
   "id": "ce1cb027",
   "metadata": {},
   "outputs": [],
   "source": [
    "import numpy as np\n",
    "import matplotlib.pyplot as plt\n",
    "\n",
    "with open(f\"/home/michael/Desktop/flow/michael_files/rl_velocity.txt\", \"r+\") as f:\n",
    "    for line in f:\n",
    "        data = line.strip(\",\")\n",
    "        data = line.split(\",\")\n",
    "        data = np.asarray([float(i) for i in data])\n",
    "\n",
    "fig, ax = plt.subplots(figsize=(8,8), dpi=100)\n",
    "xticks = np.arange(0,len(data)+1,500)\n",
    "ax.set_ylabel(\"RL Velocity\")\n",
    "ax.set_xlabel(\"Timesteps\")\n",
    "ax.plot(data)\n",
    "ax.set_xticks(xticks) \n",
    "fig.show()"
   ]
  },
  {
   "cell_type": "markdown",
   "id": "7a9214ce",
   "metadata": {},
   "source": [
    "## Charting RL Acceleration and Realized Acceleration"
   ]
  },
  {
   "cell_type": "code",
   "execution_count": null,
   "id": "80947fb1",
   "metadata": {},
   "outputs": [],
   "source": [
    "import numpy as np\n",
    "import matplotlib.pyplot as plt\n",
    "\n",
    "with open(f\"/home/michael/Desktop/flow/michael_files/rl_accel.txt\", \"r+\") as f:\n",
    "    for line in f:\n",
    "        data = line.strip(\",\")\n",
    "        data = line.split(\",\")\n",
    "        data = np.asarray([float(i) for i in data])\n",
    "\n",
    "fig, ax = plt.subplots(figsize=(8,8), dpi=100)\n",
    "xticks = np.arange(0,len(data)+1,500)\n",
    "ax.set_ylabel(\"RL Accel.\")\n",
    "ax.set_xlabel(\"Timesteps\")\n",
    "ax.plot(data)\n",
    "ax.set_xticks(xticks) \n",
    "fig.show()"
   ]
  },
  {
   "cell_type": "code",
   "execution_count": 2,
   "id": "118991a0",
   "metadata": {},
   "outputs": [
    {
     "ename": "FileNotFoundError",
     "evalue": "[Errno 2] No such file or directory: '/home/michael/Desktop/flow/michael_files/rl_accel_realized.txt'",
     "output_type": "error",
     "traceback": [
      "\u001b[0;31m---------------------------------------------------------------------------\u001b[0m",
      "\u001b[0;31mFileNotFoundError\u001b[0m                         Traceback (most recent call last)",
      "\u001b[0;32m/tmp/ipykernel_22125/343295297.py\u001b[0m in \u001b[0;36m<module>\u001b[0;34m\u001b[0m\n\u001b[1;32m      2\u001b[0m \u001b[0;32mimport\u001b[0m \u001b[0mmatplotlib\u001b[0m\u001b[0;34m.\u001b[0m\u001b[0mpyplot\u001b[0m \u001b[0;32mas\u001b[0m \u001b[0mplt\u001b[0m\u001b[0;34m\u001b[0m\u001b[0;34m\u001b[0m\u001b[0m\n\u001b[1;32m      3\u001b[0m \u001b[0;34m\u001b[0m\u001b[0m\n\u001b[0;32m----> 4\u001b[0;31m \u001b[0;32mwith\u001b[0m \u001b[0mopen\u001b[0m\u001b[0;34m(\u001b[0m\u001b[0;34mf\"/home/michael/Desktop/flow/michael_files/rl_accel_realized.txt\"\u001b[0m\u001b[0;34m,\u001b[0m \u001b[0;34m\"r+\"\u001b[0m\u001b[0;34m)\u001b[0m \u001b[0;32mas\u001b[0m \u001b[0mf\u001b[0m\u001b[0;34m:\u001b[0m\u001b[0;34m\u001b[0m\u001b[0;34m\u001b[0m\u001b[0m\n\u001b[0m\u001b[1;32m      5\u001b[0m     \u001b[0;32mfor\u001b[0m \u001b[0mline\u001b[0m \u001b[0;32min\u001b[0m \u001b[0mf\u001b[0m\u001b[0;34m:\u001b[0m\u001b[0;34m\u001b[0m\u001b[0;34m\u001b[0m\u001b[0m\n\u001b[1;32m      6\u001b[0m         \u001b[0mdata\u001b[0m \u001b[0;34m=\u001b[0m \u001b[0mline\u001b[0m\u001b[0;34m.\u001b[0m\u001b[0mstrip\u001b[0m\u001b[0;34m(\u001b[0m\u001b[0;34m\",\"\u001b[0m\u001b[0;34m)\u001b[0m\u001b[0;34m\u001b[0m\u001b[0;34m\u001b[0m\u001b[0m\n",
      "\u001b[0;31mFileNotFoundError\u001b[0m: [Errno 2] No such file or directory: '/home/michael/Desktop/flow/michael_files/rl_accel_realized.txt'"
     ]
    }
   ],
   "source": [
    "import numpy as np\n",
    "import matplotlib.pyplot as plt\n",
    "\n",
    "with open(f\"/home/michael/Desktop/flow/michael_files/rl_accel_realized.txt\", \"r+\") as f:\n",
    "    for line in f:\n",
    "        data = line.strip(\",\")\n",
    "        data = line.split(\",\")\n",
    "        data = np.asarray([float(i) for i in data])\n",
    "\n",
    "fig, ax = plt.subplots(figsize=(8,8), dpi=100)\n",
    "xticks = np.arange(0,len(data)+1,500)\n",
    "ax.set_ylabel(\"RL Accel. Realized\")\n",
    "ax.set_xlabel(\"Timesteps\")\n",
    "ax.plot(data)\n",
    "ax.set_xticks(xticks) \n",
    "fig.show()"
   ]
  },
  {
   "cell_type": "code",
   "execution_count": null,
   "id": "252bdf50",
   "metadata": {},
   "outputs": [],
   "source": []
  }
 ],
 "metadata": {
  "kernelspec": {
   "display_name": "Python 3",
   "language": "python",
   "name": "python3"
  },
  "language_info": {
   "codemirror_mode": {
    "name": "ipython",
    "version": 3
   },
   "file_extension": ".py",
   "mimetype": "text/x-python",
   "name": "python",
   "nbconvert_exporter": "python",
   "pygments_lexer": "ipython3",
   "version": "3.7.3"
  }
 },
 "nbformat": 4,
 "nbformat_minor": 5
}
