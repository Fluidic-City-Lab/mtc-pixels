{
 "cells": [
  {
   "cell_type": "code",
   "execution_count": 1,
   "id": "02c712e1",
   "metadata": {
    "scrolled": false
   },
   "outputs": [
    {
     "name": "stdout",
     "output_type": "stream",
     "text": [
      "2022-07-05 09:21:28,341\tWARNING services.py:597 -- setpgrp failed, processes may not be cleaned up properly: [Errno 1] Operation not permitted.\n",
      "2022-07-05 09:21:28,341\tINFO resource_spec.py:216 -- Starting Ray with 11.18 GiB memory available for workers and up to 5.59 GiB for objects. You can adjust these settings with ray.init(memory=<bytes>, object_store_memory=<bytes>).\n",
      "2022-07-05 09:21:28,639\tINFO trainer.py:371 -- Tip: set 'eager': true or the --eager flag to enable TensorFlow eager execution\n",
      "2022-07-05 09:21:28,643\tINFO trainer.py:512 -- Current log_level is WARN. For more information, set 'log_level': 'INFO' / 'DEBUG' or use the -v and -vv flags.\n",
      "2022-07-05 09:31:29,761\tINFO trainable.py:102 -- _setup took 601.119 seconds. If your trainable is slow to initialize, consider setting reuse_actors=True to reduce actor creation overheads.\n",
      "2022-07-05 09:31:29,762\tWARNING util.py:45 -- Install gputil for GPU system monitoring.\n",
      "2022-07-05 09:31:29,807\tINFO trainable.py:346 -- Restored from checkpoint: /home/michael/ray_results/stabilizing_the_ring/PPO_WaveAttenuationPOEnv-v0_5d5b0bf8_2022-07-02_01-51-14gxs473zs/checkpoint_84/checkpoint-84\n",
      "2022-07-05 09:31:29,807\tINFO trainable.py:353 -- Current state after restoring: {'_iteration': 84, '_timesteps_total': 3360000, '_time_total': 103579.57034063339, '_episodes_total': 840}\n",
      "\n",
      "-----------------------\n",
      "ring length: 254\n",
      "v_max: 4.854791141191876\n",
      "-----------------------\n",
      "Round 0, Return: -7091.880758001022\n",
      "==== Summary of results ====\n",
      "Return:\n",
      "[3.2729908851187144]\n",
      "[-7091.880758001022]\n",
      "Average, std: -7091.880758001022, 0.0\n",
      "\n",
      "Speed, mean (m/s):\n",
      "[3.2729908851187144]\n",
      "Average, std: 3.2729908851187144, 0.0\n",
      "\n",
      "Speed, std (m/s):\n",
      "[0.7318020453508962]\n",
      "Average, std: 0.7318020453508962, 0.0\n",
      "\n",
      "Outflows (veh/hr):\n",
      "[0.0]\n",
      "Average, std: 0.0, 0.0\n",
      "Inflows (veh/hr):\n",
      "[0.0]\n",
      "Average, std: 0.0, 0.0\n",
      "Throughput efficiency (veh/hr):\n",
      "[0]\n",
      "Average, std: 0.0, 0.0\n"
     ]
    }
   ],
   "source": [
    "!python flow/visualize/visualizer_rllib.py\\\n",
    "/home/michael/ray_results/stabilizing_the_ring/PPO_WaveAttenuationPOEnv-v0_5d5b0bf8_2022-07-02_01-51-14gxs473zs 84"
   ]
  },
  {
   "cell_type": "code",
   "execution_count": null,
   "id": "f85d9435",
   "metadata": {},
   "outputs": [],
   "source": []
  },
  {
   "cell_type": "code",
   "execution_count": null,
   "id": "f8bc7614",
   "metadata": {},
   "outputs": [],
   "source": []
  }
 ],
 "metadata": {
  "kernelspec": {
   "display_name": "Python 3",
   "language": "python",
   "name": "python3"
  },
  "language_info": {
   "codemirror_mode": {
    "name": "ipython",
    "version": 3
   },
   "file_extension": ".py",
   "mimetype": "text/x-python",
   "name": "python",
   "nbconvert_exporter": "python",
   "pygments_lexer": "ipython3",
   "version": "3.7.3"
  }
 },
 "nbformat": 4,
 "nbformat_minor": 5
}
