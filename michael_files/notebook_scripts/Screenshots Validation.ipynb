{
 "cells": [
  {
   "cell_type": "markdown",
   "id": "0ebb72fb",
   "metadata": {},
   "source": [
    "# Screenshots Validation"
   ]
  },
  {
   "cell_type": "markdown",
   "id": "676e87f2",
   "metadata": {},
   "source": [
    "## Showing Some Screenshots"
   ]
  },
  {
   "cell_type": "code",
   "execution_count": null,
   "id": "a10079fd",
   "metadata": {
    "scrolled": false
   },
   "outputs": [],
   "source": [
    "from PIL import Image\n",
    "import numpy as np\n",
    "\n",
    "obs = Image.open(\"/home/michael/Desktop/flow_screenshots/state_a009_222.jpeg\")\n",
    "print(type(obs))\n",
    "obs"
   ]
  },
  {
   "cell_type": "markdown",
   "id": "a6b2294c",
   "metadata": {},
   "source": [
    "## Validating Effects of Resize"
   ]
  },
  {
   "cell_type": "code",
   "execution_count": null,
   "id": "cec7bac9",
   "metadata": {
    "scrolled": true
   },
   "outputs": [],
   "source": [
    "obs_resized = obs.resize((128,128)) # Resizing the image using the built-in Image function\n",
    "obs_resized"
   ]
  },
  {
   "cell_type": "code",
   "execution_count": null,
   "id": "d31dfd0d",
   "metadata": {},
   "outputs": [],
   "source": [
    "pix_resized = obs_resized.load()\n",
    "print(f\"Pixel Values of Top Left Corner of Image: {pix_resized[0,0]}\")\n",
    "\n",
    "obs_resized_np = np.asarray(obs_resized) # Changing to a numpy array to check pixel values\n",
    "print(f\"Pixel Values of Top Left Corner of Numpy Array: {obs_resized_np[0][0]}\")"
   ]
  },
  {
   "cell_type": "code",
   "execution_count": null,
   "id": "6ddaa3ab",
   "metadata": {
    "scrolled": true
   },
   "outputs": [],
   "source": [
    "obs_resized = Image.fromarray(obs_resized_np) # Changing back to Image\n",
    "obs_resized"
   ]
  },
  {
   "cell_type": "markdown",
   "id": "192370f6",
   "metadata": {},
   "source": [
    "### Observations 1\n",
    "\n",
    "The path of Image -> Using Image resize function -> Convert to Numpy arrray -> Convert back to Image results in the correct image being printed out"
   ]
  },
  {
   "cell_type": "code",
   "execution_count": null,
   "id": "54127030",
   "metadata": {},
   "outputs": [],
   "source": [
    "obs = Image.open(\"/home/michael/Desktop/flow_screenshots/state_a009_222.jpeg\")\n",
    "obs"
   ]
  },
  {
   "cell_type": "code",
   "execution_count": null,
   "id": "73341a7d",
   "metadata": {},
   "outputs": [],
   "source": [
    "obs2 = np.asarray(obs) # Changing from Image to Numpy array\n",
    "print(f\"Type of obs2: {type(obs2)}\")\n",
    "print(f\"Shape of obs2: {obs2.shape}\\n\")\n",
    "\n",
    "obs2_resized = np.resize(obs2, (128,128,3))\n",
    "print(f\"Shape of obs2_resized: {obs2_resized.shape}\") # Resizing it using the Numpy function\n",
    "\n",
    "obs2_resized_im = Image.fromarray(obs2_resized) # Changing back to an Image\n",
    "pix_obs2_resized = obs2_resized_im.load()\n",
    "\n",
    "print(f\"Pixel Values of (x=64,y=64) of Image: {pix_obs2_resized[64,64]}\")\n",
    "print(f\"Pixel Values of (x=64,y=64) of Numpy Array: {obs2_resized[64][64]}\")"
   ]
  },
  {
   "cell_type": "code",
   "execution_count": null,
   "id": "e647b096",
   "metadata": {},
   "outputs": [],
   "source": [
    "obs2_resized_im"
   ]
  },
  {
   "cell_type": "markdown",
   "id": "0663a270",
   "metadata": {},
   "source": [
    "### Observations 2\n",
    "\n",
    "The path of Image -> Convert to Numpy array -> Resize with Numpy resize() -> Convert back to Image results in an incorrect image being printed out and SHOULD NOT BE USED"
   ]
  },
  {
   "cell_type": "code",
   "execution_count": null,
   "id": "a3e371b1",
   "metadata": {},
   "outputs": [],
   "source": [
    "obs = Image.open(\"/home/michael/Desktop/flow_screenshots/state_a009_222.jpeg\")\n",
    "obs_np = np.asarray(obs) # Converting to Numpy array\n",
    "\n",
    "obs_height = obs_np.shape[0]\n",
    "obs_width = obs_np.shape[1]\n",
    "\n",
    "print(f\"Height of Image: {obs_height}\")\n",
    "print(f\"Width of Image: {obs_width}\")\n",
    "\n",
    "print(f\"Ratio of Image's Dimensions: {obs_height/obs_width}\")"
   ]
  },
  {
   "cell_type": "code",
   "execution_count": null,
   "id": "a63d8349",
   "metadata": {},
   "outputs": [],
   "source": [
    "new_height = 128\n",
    "new_width = 203\n",
    "\n",
    "print(f\"New width and height\")\n",
    "\n",
    "obs = Image.open(\"/home/michael/Desktop/flow_screenshots/state_a009_222.jpeg\")\n",
    "obs = obs.resize((new_width, new_height))\n",
    "obs"
   ]
  },
  {
   "cell_type": "code",
   "execution_count": null,
   "id": "1e76c386",
   "metadata": {},
   "outputs": [],
   "source": [
    "new_height = 64\n",
    "new_width = 102\n",
    "\n",
    "print(f\"New width and height\")\n",
    "\n",
    "obs = Image.open(\"/home/michael/Desktop/flow_screenshots/state_a009_222.jpeg\")\n",
    "obs = obs.resize((new_width, new_height))\n",
    "obs"
   ]
  },
  {
   "cell_type": "code",
   "execution_count": null,
   "id": "0410ce07",
   "metadata": {
    "scrolled": true
   },
   "outputs": [],
   "source": [
    "from PIL import Image\n",
    "\n",
    "obs = Image.open(\"/home/michael/Desktop/flow_screenshots/state_183e_2.jpeg\")\n",
    "obs = obs.crop((191, 0, 852, 661))\n",
    "\n",
    "obs"
   ]
  },
  {
   "cell_type": "code",
   "execution_count": null,
   "id": "92de331f",
   "metadata": {},
   "outputs": [],
   "source": [
    "obs = np.asarray(obs)\n",
    "print(obs.shape)"
   ]
  },
  {
   "cell_type": "code",
   "execution_count": null,
   "id": "0572240f",
   "metadata": {},
   "outputs": [],
   "source": [
    "obs = obs / 255.\n",
    "print(obs)"
   ]
  },
  {
   "cell_type": "code",
   "execution_count": null,
   "id": "fabb82ee",
   "metadata": {},
   "outputs": [],
   "source": []
  }
 ],
 "metadata": {
  "kernelspec": {
   "display_name": "Python 3 (ipykernel)",
   "language": "python",
   "name": "python3"
  },
  "language_info": {
   "codemirror_mode": {
    "name": "ipython",
    "version": 3
   },
   "file_extension": ".py",
   "mimetype": "text/x-python",
   "name": "python",
   "nbconvert_exporter": "python",
   "pygments_lexer": "ipython3",
   "version": "3.7.3"
  }
 },
 "nbformat": 4,
 "nbformat_minor": 5
}
