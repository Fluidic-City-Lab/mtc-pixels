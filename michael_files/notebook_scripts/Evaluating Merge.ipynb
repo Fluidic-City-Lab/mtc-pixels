{
 "cells": [
  {
   "cell_type": "code",
   "execution_count": null,
   "id": "02c712e1",
   "metadata": {
    "scrolled": false
   },
   "outputs": [],
   "source": [
    "%run ../../flow/visualize/visualizer_rllib.py\\\n",
    "/home/michael/ray_results/merge_0/PPO_MergePOEnv-v0_1d3be_00000_0_2023-01-18_17-16-19/ 188\\\n",
    "--num_rollouts 10"
   ]
  },
  {
   "cell_type": "markdown",
   "id": "17ef9ffb",
   "metadata": {},
   "source": [
    "### Trial Results Directory Name"
   ]
  },
  {
   "cell_type": "code",
   "execution_count": null,
   "id": "74ae7156",
   "metadata": {},
   "outputs": [],
   "source": [
    "results_dir_name = \"trial_results\""
   ]
  },
  {
   "cell_type": "markdown",
   "id": "e7ea54c9",
   "metadata": {},
   "source": [
    "## Mean Over Rollout"
   ]
  },
  {
   "cell_type": "code",
   "execution_count": null,
   "id": "40e41319",
   "metadata": {},
   "outputs": [],
   "source": [
    "import numpy as np\n",
    "\n",
    "mean_collector = []\n",
    "\n",
    "with open(f\"../../michael_files/{results_dir_name}/avg_velocity.txt\", \"r+\") as f:\n",
    "    for line in f:\n",
    "        data = line.split(\",\")\n",
    "        data = data[:len(data)-1]\n",
    "        data = np.asarray([float(i) for i in data])\n",
    "        mean_vehs = np.mean(data)\n",
    "        mean_collector.append(mean_vehs)\n",
    "        print(f\"Mean Velocity Over Rollout: {mean_vehs}\")\n",
    "        with open(f\"../../michael_files/{results_dir_name}/mean_rollout_velocity.txt\", \"a\") as g:\n",
    "            g.write(f\"Mean Velocity Over Rollout: {mean_vehs}\\n\")\n",
    "\n",
    "with open(f\"../../michael_files/{results_dir_name}/mean_rollout_velocity.txt\", \"a\") as g:\n",
    "    mean_rollout = np.mean(mean_collector)\n",
    "    std_rollout = np.std(mean_collector)\n",
    "    var_rollout = np.var(mean_collector)\n",
    "    \n",
    "    g.write(f\"Mean of Rollouts: {mean_rollout}\\n\")\n",
    "    g.write(f\"Std of Rollouts: {std_rollout}\\n\")\n",
    "    g.write(f\"Variance of Rollouts: {var_rollout}\\n\")\n",
    "    \n",
    "    print(f\"Mean of Rollouts: {mean_rollout}\\n\")\n",
    "    print(f\"Std of Rollouts: {std_rollout}\\n\")\n",
    "    print(f\"Variance of Rollouts: {var_rollout}\\n\")"
   ]
  },
  {
   "cell_type": "markdown",
   "id": "b14d89b2",
   "metadata": {},
   "source": [
    "## Mean and Min for Last 100 Seconds"
   ]
  },
  {
   "cell_type": "code",
   "execution_count": null,
   "id": "f85d9435",
   "metadata": {},
   "outputs": [],
   "source": [
    "import numpy as np\n",
    "\n",
    "mean_collector = []\n",
    "\n",
    "with open(f\"../../michael_files/{results_dir_name}/avg_velocity.txt\", \"r+\") as f:\n",
    "    for line in f:\n",
    "        data = line.split(\",\")\n",
    "        data = data[:len(data)-1]\n",
    "        data = np.asarray([float(i) for i in data])\n",
    "        mean_last_100_seconds = np.mean(data[-1000:])\n",
    "        mean_collector.append(mean_last_100_seconds)\n",
    "        print(f\"Mean Last 100 Seconds: {mean_last_100_seconds}\")\n",
    "        with open(f\"../../michael_files/{results_dir_name}/last_100_seconds.txt\", \"a\") as g:\n",
    "            g.write(f\"Mean Last 100 Seconds: {mean_last_100_seconds}\\n\")\n",
    "\n",
    "print(f\"Mean of last 100 secs over rollouts: {np.mean(mean_collector)}\")\n",
    "\n",
    "with open(f\"../../michael_files/{results_dir_name}/last_100_seconds.txt\", \"a\") as g:\n",
    "    g.write(f\"Mean of last 100 secs over rollouts: {np.mean(mean_collector)}\\n\")\n",
    "    \n",
    "    std_100 = np.std(mean_collector)\n",
    "    var_100 = np.var(mean_collector)\n",
    "    \n",
    "    g.write(f\"Std of last 100 secs over rollouts: {std_100}\\n\")\n",
    "    g.write(f\"Variance of last 100 secs over rollouts: {var_100}\\n\")"
   ]
  },
  {
   "cell_type": "code",
   "execution_count": null,
   "id": "f8bc7614",
   "metadata": {},
   "outputs": [],
   "source": [
    "import numpy as np\n",
    "\n",
    "with open(f\"../../michael_files/{results_dir_name}/min_velocity.txt\", \"r+\") as f:\n",
    "    for line in f:\n",
    "        data = line.split(\",\")\n",
    "        data = data[:len(data)-1]\n",
    "        data = np.asarray([float(i) for i in data])\n",
    "        min_last_100_seconds = np.min(data[-1000:])\n",
    "        print(f\"Min Last 100 Seconds: {min_last_100_seconds}\")\n",
    "        with open(f\"../../michael_files/{results_dir_name}/last_100_seconds.txt\", \"a\") as g:\n",
    "            g.write(f\"Min Last 100 Seconds: {min_last_100_seconds}\\n\")"
   ]
  },
  {
   "cell_type": "markdown",
   "id": "d53987b3",
   "metadata": {},
   "source": [
    "## Charting Avg. Velocity for All Vehicles"
   ]
  },
  {
   "cell_type": "code",
   "execution_count": null,
   "id": "1b0d6f21",
   "metadata": {},
   "outputs": [],
   "source": [
    "import numpy as np\n",
    "import matplotlib.pyplot as plt\n",
    "\n",
    "with open(f\"../../michael_files/{results_dir_name}/avg_velocity.txt\", \"r+\") as f:\n",
    "    count = 0\n",
    "    for line in f:\n",
    "        data = line.split(\",\")\n",
    "        data = data[:len(data)-1]\n",
    "        data = np.asarray([float(i) for i in data])\n",
    "\n",
    "        fig, ax = plt.subplots(figsize=(8,8), dpi=100)\n",
    "        xticks = np.arange(0,len(data)+1,500)\n",
    "        ax.set_ylabel(\"Avg. Velocity\")\n",
    "        ax.set_xlabel(\"Timesteps\")\n",
    "        ax.plot(data)\n",
    "        ax.set_xticks(xticks) \n",
    "        fig.savefig(f\"../../michael_files/{results_dir_name}/avg_velocity{count}.png\")\n",
    "        \n",
    "        count += 1"
   ]
  },
  {
   "cell_type": "markdown",
   "id": "5e00782b",
   "metadata": {},
   "source": [
    "## Charting RL Velocity"
   ]
  },
  {
   "cell_type": "code",
   "execution_count": null,
   "id": "ce1cb027",
   "metadata": {
    "scrolled": true
   },
   "outputs": [],
   "source": [
    "import numpy as np\n",
    "import matplotlib.pyplot as plt\n",
    "\n",
    "with open(f\"../../michael_files/{results_dir_name}/rl_velocity.txt\", \"r+\") as f:\n",
    "    count = 0\n",
    "    for line in f:\n",
    "        data = line.split(\",\")\n",
    "        data = data[:len(data)-1]\n",
    "        data = np.asarray([float(i) for i in data])\n",
    "\n",
    "        fig, ax = plt.subplots(figsize=(8,8), dpi=100)\n",
    "        xticks = np.arange(0,len(data)+1,500)\n",
    "        ax.set_ylabel(\"RL Velocity\")\n",
    "        ax.set_xlabel(\"Timesteps\")\n",
    "        ax.plot(data)\n",
    "        ax.set_xticks(xticks) \n",
    "        fig.savefig(f\"../../michael_files/{results_dir_name}/rl_velocity{count}.png\")\n",
    "        \n",
    "        count += 1"
   ]
  },
  {
   "cell_type": "markdown",
   "id": "7a9214ce",
   "metadata": {},
   "source": [
    "## Charting RL Realized Acceleration"
   ]
  },
  {
   "cell_type": "code",
   "execution_count": null,
   "id": "118991a0",
   "metadata": {},
   "outputs": [],
   "source": [
    "import numpy as np\n",
    "import matplotlib.pyplot as plt\n",
    "\n",
    "with open(f\"../../michael_files/{results_dir_name}/rl_accel_realized.txt\", \"r+\") as f:\n",
    "    count = 0\n",
    "    for line in f:\n",
    "        data = line.split(\",\")\n",
    "        data = data[:len(data)-1]\n",
    "        data = np.asarray([float(i) for i in data])\n",
    "\n",
    "        fig, ax = plt.subplots(figsize=(8,8), dpi=100)\n",
    "        xticks = np.arange(0,len(data)+1,500)\n",
    "        ax.set_ylabel(\"RL Accel. Realized\")\n",
    "        ax.set_xlabel(\"Timesteps\")\n",
    "        ax.plot(data)\n",
    "        ax.set_xticks(xticks) \n",
    "        fig.savefig(f\"../../michael_files/{results_dir_name}/rl_accel_realized{count}.png\")\n",
    "        \n",
    "        count += 1"
   ]
  },
  {
   "cell_type": "code",
   "execution_count": null,
   "id": "f6be1823",
   "metadata": {},
   "outputs": [],
   "source": []
  }
 ],
 "metadata": {
  "kernelspec": {
   "display_name": "Python 3 (ipykernel)",
   "language": "python",
   "name": "python3"
  },
  "language_info": {
   "codemirror_mode": {
    "name": "ipython",
    "version": 3
   },
   "file_extension": ".py",
   "mimetype": "text/x-python",
   "name": "python",
   "nbconvert_exporter": "python",
   "pygments_lexer": "ipython3",
   "version": "3.7.3"
  }
 },
 "nbformat": 4,
 "nbformat_minor": 5
}
