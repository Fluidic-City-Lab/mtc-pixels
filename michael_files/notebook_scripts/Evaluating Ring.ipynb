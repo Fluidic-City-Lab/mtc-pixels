{
 "cells": [
  {
   "cell_type": "code",
   "execution_count": 1,
   "id": "02c712e1",
   "metadata": {
    "scrolled": false
   },
   "outputs": [
    {
     "name": "stderr",
     "output_type": "stream",
     "text": [
      "2023-04-13 13:41:30,007\tINFO services.py:1247 -- View the Ray dashboard at \u001b[1m\u001b[32mhttp://127.0.0.1:8266\u001b[39m\u001b[22m\n",
      "2023-04-13 13:41:30,569\tINFO trainer.py:720 -- Current log_level is WARN. For more information, set 'log_level': 'INFO' / 'DEBUG' or use the -v and -vv flags.\n",
      "2023-04-13 13:41:31,675\tWARNING util.py:55 -- Install gputil for GPU system monitoring.\n",
      "2023-04-13 13:41:31,786\tINFO trainable.py:383 -- Restored on 141.225.9.236 from checkpoint: /home/michael-lab/ray_results/singleagent_ring/PPO_WaveAttenuationPOEnv-v0_e93a5_00000_0_2023-04-12_19-12-43/checkpoint_11/checkpoint-11\n",
      "2023-04-13 13:41:31,786\tINFO trainable.py:390 -- Current state after restoring: {'_iteration': 11, '_timesteps_total': None, '_time_total': 1145.799563407898, '_episodes_total': 220}\n"
     ]
    },
    {
     "name": "stdout",
     "output_type": "stream",
     "text": [
      "\n",
      "-----------------------\n",
      "ring length: 256\n",
      "v_max: 4.949804327743507\n",
      "-----------------------\n"
     ]
    },
    {
     "name": "stderr",
     "output_type": "stream",
     "text": [
      "2023-04-13 13:41:41,982\tWARNING deprecation.py:34 -- DeprecationWarning: `compute_action` has been deprecated. Use `compute_single_action` instead. This will raise an error in the future!\n"
     ]
    },
    {
     "name": "stdout",
     "output_type": "stream",
     "text": [
      "STD name:41131\n",
      "\n"
     ]
    },
    {
     "ename": "ValueError",
     "evalue": "all the input array dimensions for the concatenation axis must match exactly, but along dimension 0, the array at index 0 has size 800 and the array at index 1 has size 600",
     "output_type": "error",
     "traceback": [
      "\u001b[0;31m---------------------------------------------------------------------------\u001b[0m",
      "\u001b[0;31mValueError\u001b[0m                                Traceback (most recent call last)",
      "\u001b[0;32m~/Desktop/flow/flow/visualize/visualizer_rllib.py\u001b[0m in \u001b[0;36m<module>\u001b[0;34m\u001b[0m\n\u001b[1;32m    395\u001b[0m     \u001b[0margs\u001b[0m \u001b[0;34m=\u001b[0m \u001b[0mparser\u001b[0m\u001b[0;34m.\u001b[0m\u001b[0mparse_args\u001b[0m\u001b[0;34m(\u001b[0m\u001b[0;34m)\u001b[0m\u001b[0;34m\u001b[0m\u001b[0;34m\u001b[0m\u001b[0m\n\u001b[1;32m    396\u001b[0m     \u001b[0mray\u001b[0m\u001b[0;34m.\u001b[0m\u001b[0minit\u001b[0m\u001b[0;34m(\u001b[0m\u001b[0mnum_cpus\u001b[0m\u001b[0;34m=\u001b[0m\u001b[0;36m1\u001b[0m\u001b[0;34m)\u001b[0m\u001b[0;34m\u001b[0m\u001b[0;34m\u001b[0m\u001b[0m\n\u001b[0;32m--> 397\u001b[0;31m     \u001b[0mvisualizer_rllib\u001b[0m\u001b[0;34m(\u001b[0m\u001b[0margs\u001b[0m\u001b[0;34m)\u001b[0m\u001b[0;34m\u001b[0m\u001b[0;34m\u001b[0m\u001b[0m\n\u001b[0m",
      "\u001b[0;32m~/Desktop/flow/flow/visualize/visualizer_rllib.py\u001b[0m in \u001b[0;36mvisualizer_rllib\u001b[0;34m(args)\u001b[0m\n\u001b[1;32m    239\u001b[0m                 \u001b[0;32melse\u001b[0m\u001b[0;34m:\u001b[0m\u001b[0;34m\u001b[0m\u001b[0;34m\u001b[0m\u001b[0m\n\u001b[1;32m    240\u001b[0m                     \u001b[0maction\u001b[0m \u001b[0;34m=\u001b[0m \u001b[0magent\u001b[0m\u001b[0;34m.\u001b[0m\u001b[0mcompute_action\u001b[0m\u001b[0;34m(\u001b[0m\u001b[0mobservation\u001b[0m\u001b[0;34m=\u001b[0m\u001b[0mstate\u001b[0m\u001b[0;34m)\u001b[0m\u001b[0;34m\u001b[0m\u001b[0;34m\u001b[0m\u001b[0m\n\u001b[0;32m--> 241\u001b[0;31m             \u001b[0mstate\u001b[0m\u001b[0;34m,\u001b[0m \u001b[0mreward\u001b[0m\u001b[0;34m,\u001b[0m \u001b[0mdone\u001b[0m\u001b[0;34m,\u001b[0m \u001b[0m_\u001b[0m \u001b[0;34m=\u001b[0m \u001b[0menv\u001b[0m\u001b[0;34m.\u001b[0m\u001b[0mstep\u001b[0m\u001b[0;34m(\u001b[0m\u001b[0maction\u001b[0m\u001b[0;34m)\u001b[0m\u001b[0;34m\u001b[0m\u001b[0;34m\u001b[0m\u001b[0m\n\u001b[0m\u001b[1;32m    242\u001b[0m             \u001b[0;32mif\u001b[0m \u001b[0mmultiagent\u001b[0m\u001b[0;34m:\u001b[0m\u001b[0;34m\u001b[0m\u001b[0;34m\u001b[0m\u001b[0m\n\u001b[1;32m    243\u001b[0m                 \u001b[0;32mfor\u001b[0m \u001b[0mactor\u001b[0m\u001b[0;34m,\u001b[0m \u001b[0mrew\u001b[0m \u001b[0;32min\u001b[0m \u001b[0mreward\u001b[0m\u001b[0;34m.\u001b[0m\u001b[0mitems\u001b[0m\u001b[0;34m(\u001b[0m\u001b[0;34m)\u001b[0m\u001b[0;34m:\u001b[0m\u001b[0;34m\u001b[0m\u001b[0;34m\u001b[0m\u001b[0m\n",
      "\u001b[0;32m~/Desktop/flow/flow/envs/base.py\u001b[0m in \u001b[0;36mstep\u001b[0;34m(self, rl_actions)\u001b[0m\n\u001b[1;32m    387\u001b[0m             \u001b[0mself\u001b[0m\u001b[0;34m.\u001b[0m\u001b[0mrender\u001b[0m\u001b[0;34m(\u001b[0m\u001b[0;34m)\u001b[0m\u001b[0;34m\u001b[0m\u001b[0;34m\u001b[0m\u001b[0m\n\u001b[1;32m    388\u001b[0m \u001b[0;34m\u001b[0m\u001b[0m\n\u001b[0;32m--> 389\u001b[0;31m         \u001b[0mstates\u001b[0m \u001b[0;34m=\u001b[0m \u001b[0mself\u001b[0m\u001b[0;34m.\u001b[0m\u001b[0mget_state\u001b[0m\u001b[0;34m(\u001b[0m\u001b[0;34m)\u001b[0m\u001b[0;34m\u001b[0m\u001b[0;34m\u001b[0m\u001b[0m\n\u001b[0m\u001b[1;32m    390\u001b[0m \u001b[0;34m\u001b[0m\u001b[0m\n\u001b[1;32m    391\u001b[0m         \u001b[0;31m# collect information of the state of the network based on the\u001b[0m\u001b[0;34m\u001b[0m\u001b[0;34m\u001b[0m\u001b[0;34m\u001b[0m\u001b[0m\n",
      "\u001b[0;32m~/Desktop/flow/flow/envs/ring/wave_attenuation.py\u001b[0m in \u001b[0;36mget_state\u001b[0;34m(self)\u001b[0m\n\u001b[1;32m    355\u001b[0m                 \u001b[0mself\u001b[0m\u001b[0;34m.\u001b[0m\u001b[0mspace_time_collector\u001b[0m \u001b[0;34m=\u001b[0m \u001b[0mnp\u001b[0m\u001b[0;34m.\u001b[0m\u001b[0masarray\u001b[0m\u001b[0;34m(\u001b[0m\u001b[0mself\u001b[0m\u001b[0;34m.\u001b[0m\u001b[0mspace_time_collector\u001b[0m\u001b[0;34m)\u001b[0m\u001b[0;34m\u001b[0m\u001b[0;34m\u001b[0m\u001b[0m\n\u001b[1;32m    356\u001b[0m                 \u001b[0mnp\u001b[0m\u001b[0;34m.\u001b[0m\u001b[0msavez\u001b[0m\u001b[0;34m(\u001b[0m\u001b[0;34m\"../../michael_files/space_time_collector.npz\"\u001b[0m\u001b[0;34m,\u001b[0m \u001b[0mspace_time_collector\u001b[0m\u001b[0;34m=\u001b[0m\u001b[0mself\u001b[0m\u001b[0;34m.\u001b[0m\u001b[0mspace_time_collector\u001b[0m\u001b[0;34m)\u001b[0m\u001b[0;34m\u001b[0m\u001b[0;34m\u001b[0m\u001b[0m\n\u001b[0;32m--> 357\u001b[0;31m                 \u001b[0mplot_std\u001b[0m\u001b[0;34m(\u001b[0m\u001b[0mself\u001b[0m\u001b[0;34m.\u001b[0m\u001b[0mspace_time_collector\u001b[0m\u001b[0;34m,\u001b[0m \u001b[0mhorizon\u001b[0m\u001b[0;34m=\u001b[0m\u001b[0;36m5000\u001b[0m\u001b[0;34m,\u001b[0m \u001b[0mwarmup\u001b[0m\u001b[0;34m=\u001b[0m\u001b[0;36m3000\u001b[0m\u001b[0;34m)\u001b[0m\u001b[0;34m\u001b[0m\u001b[0;34m\u001b[0m\u001b[0m\n\u001b[0m\u001b[1;32m    358\u001b[0m \u001b[0;34m\u001b[0m\u001b[0m\n\u001b[1;32m    359\u001b[0m             \u001b[0mspeed\u001b[0m \u001b[0;34m=\u001b[0m \u001b[0mnp\u001b[0m\u001b[0;34m.\u001b[0m\u001b[0masarray\u001b[0m\u001b[0;34m(\u001b[0m\u001b[0;34m[\u001b[0m\u001b[0mself\u001b[0m\u001b[0;34m.\u001b[0m\u001b[0mk\u001b[0m\u001b[0;34m.\u001b[0m\u001b[0mvehicle\u001b[0m\u001b[0;34m.\u001b[0m\u001b[0mget_speed\u001b[0m\u001b[0;34m(\u001b[0m\u001b[0mveh_id\u001b[0m\u001b[0;34m)\u001b[0m \u001b[0;32mfor\u001b[0m \u001b[0mveh_id\u001b[0m \u001b[0;32min\u001b[0m \u001b[0mself\u001b[0m\u001b[0;34m.\u001b[0m\u001b[0mk\u001b[0m\u001b[0;34m.\u001b[0m\u001b[0mvehicle\u001b[0m\u001b[0;34m.\u001b[0m\u001b[0mget_ids\u001b[0m\u001b[0;34m(\u001b[0m\u001b[0;34m)\u001b[0m\u001b[0;34m]\u001b[0m\u001b[0;34m)\u001b[0m\u001b[0;34m\u001b[0m\u001b[0;34m\u001b[0m\u001b[0m\n",
      "\u001b[0;32m~/Desktop/flow/space_time.py\u001b[0m in \u001b[0;36mplot_std\u001b[0;34m(pos_vel_collector, n_cars, horizon, warmup)\u001b[0m\n\u001b[1;32m     53\u001b[0m     \u001b[0mx\u001b[0m \u001b[0;34m=\u001b[0m \u001b[0mnp\u001b[0m\u001b[0;34m.\u001b[0m\u001b[0marange\u001b[0m\u001b[0;34m(\u001b[0m\u001b[0mWARMUP\u001b[0m \u001b[0;34m+\u001b[0m \u001b[0mHORIZON\u001b[0m\u001b[0;34m)\u001b[0m\u001b[0;34m\u001b[0m\u001b[0;34m\u001b[0m\u001b[0m\n\u001b[1;32m     54\u001b[0m \u001b[0;34m\u001b[0m\u001b[0m\n\u001b[0;32m---> 55\u001b[0;31m     line_segments = LineCollection([np.column_stack([x, y]) for y in ys],\n\u001b[0m\u001b[1;32m     56\u001b[0m                                \u001b[0mcmap\u001b[0m \u001b[0;34m=\u001b[0m \u001b[0mmy_cmap\u001b[0m\u001b[0;34m,\u001b[0m\u001b[0;34m\u001b[0m\u001b[0;34m\u001b[0m\u001b[0m\n\u001b[1;32m     57\u001b[0m                                norm = norm)\n",
      "\u001b[0;32m~/Desktop/flow/space_time.py\u001b[0m in \u001b[0;36m<listcomp>\u001b[0;34m(.0)\u001b[0m\n\u001b[1;32m     53\u001b[0m     \u001b[0mx\u001b[0m \u001b[0;34m=\u001b[0m \u001b[0mnp\u001b[0m\u001b[0;34m.\u001b[0m\u001b[0marange\u001b[0m\u001b[0;34m(\u001b[0m\u001b[0mWARMUP\u001b[0m \u001b[0;34m+\u001b[0m \u001b[0mHORIZON\u001b[0m\u001b[0;34m)\u001b[0m\u001b[0;34m\u001b[0m\u001b[0;34m\u001b[0m\u001b[0m\n\u001b[1;32m     54\u001b[0m \u001b[0;34m\u001b[0m\u001b[0m\n\u001b[0;32m---> 55\u001b[0;31m     line_segments = LineCollection([np.column_stack([x, y]) for y in ys],\n\u001b[0m\u001b[1;32m     56\u001b[0m                                \u001b[0mcmap\u001b[0m \u001b[0;34m=\u001b[0m \u001b[0mmy_cmap\u001b[0m\u001b[0;34m,\u001b[0m\u001b[0;34m\u001b[0m\u001b[0;34m\u001b[0m\u001b[0m\n\u001b[1;32m     57\u001b[0m                                norm = norm)\n",
      "\u001b[0;32m<__array_function__ internals>\u001b[0m in \u001b[0;36mcolumn_stack\u001b[0;34m(*args, **kwargs)\u001b[0m\n",
      "\u001b[0;32m~/miniconda3/envs/flow/lib/python3.7/site-packages/numpy/lib/shape_base.py\u001b[0m in \u001b[0;36mcolumn_stack\u001b[0;34m(tup)\u001b[0m\n\u001b[1;32m    654\u001b[0m             \u001b[0marr\u001b[0m \u001b[0;34m=\u001b[0m \u001b[0marray\u001b[0m\u001b[0;34m(\u001b[0m\u001b[0marr\u001b[0m\u001b[0;34m,\u001b[0m \u001b[0mcopy\u001b[0m\u001b[0;34m=\u001b[0m\u001b[0;32mFalse\u001b[0m\u001b[0;34m,\u001b[0m \u001b[0msubok\u001b[0m\u001b[0;34m=\u001b[0m\u001b[0;32mTrue\u001b[0m\u001b[0;34m,\u001b[0m \u001b[0mndmin\u001b[0m\u001b[0;34m=\u001b[0m\u001b[0;36m2\u001b[0m\u001b[0;34m)\u001b[0m\u001b[0;34m.\u001b[0m\u001b[0mT\u001b[0m\u001b[0;34m\u001b[0m\u001b[0;34m\u001b[0m\u001b[0m\n\u001b[1;32m    655\u001b[0m         \u001b[0marrays\u001b[0m\u001b[0;34m.\u001b[0m\u001b[0mappend\u001b[0m\u001b[0;34m(\u001b[0m\u001b[0marr\u001b[0m\u001b[0;34m)\u001b[0m\u001b[0;34m\u001b[0m\u001b[0;34m\u001b[0m\u001b[0m\n\u001b[0;32m--> 656\u001b[0;31m     \u001b[0;32mreturn\u001b[0m \u001b[0m_nx\u001b[0m\u001b[0;34m.\u001b[0m\u001b[0mconcatenate\u001b[0m\u001b[0;34m(\u001b[0m\u001b[0marrays\u001b[0m\u001b[0;34m,\u001b[0m \u001b[0;36m1\u001b[0m\u001b[0;34m)\u001b[0m\u001b[0;34m\u001b[0m\u001b[0;34m\u001b[0m\u001b[0m\n\u001b[0m\u001b[1;32m    657\u001b[0m \u001b[0;34m\u001b[0m\u001b[0m\n\u001b[1;32m    658\u001b[0m \u001b[0;34m\u001b[0m\u001b[0m\n",
      "\u001b[0;32m<__array_function__ internals>\u001b[0m in \u001b[0;36mconcatenate\u001b[0;34m(*args, **kwargs)\u001b[0m\n",
      "\u001b[0;31mValueError\u001b[0m: all the input array dimensions for the concatenation axis must match exactly, but along dimension 0, the array at index 0 has size 800 and the array at index 1 has size 600"
     ]
    }
   ],
   "source": [
    "%run ../../flow/visualize/visualizer_rllib.py\\\n",
    "/home/michael-lab/ray_results/singleagent_ring/PPO_WaveAttenuationPOEnv-v0_e93a5_00000_0_2023-04-12_19-12-43/ 11\\\n",
    "--num_rollouts 1"
   ]
  },
  {
   "cell_type": "markdown",
   "id": "b14d89b2",
   "metadata": {},
   "source": [
    "## Mean and Min for Last 100 Seconds"
   ]
  },
  {
   "cell_type": "code",
   "execution_count": null,
   "id": "f85d9435",
   "metadata": {},
   "outputs": [],
   "source": [
    "import numpy as np\n",
    "\n",
    "mean_collector = []\n",
    "\n",
    "with open(f\"../../michael_files/results_lengthX/avg_velocity.txt\", \"r+\") as f:\n",
    "    for line in f:\n",
    "        data = line.split(\",\")\n",
    "        data = data[:len(data)-1]\n",
    "        data = np.asarray([float(i) for i in data])\n",
    "        mean_last_100_seconds = np.mean(data[-1000:])\n",
    "        mean_collector.append(mean_last_100_seconds)\n",
    "        print(f\"Mean Last 100 Seconds: {mean_last_100_seconds}\")\n",
    "        with open(f\"../../michael_files/results_lengthX/last_100_seconds.txt\", \"a\") as g:\n",
    "            g.write(f\"Mean Last 100 Seconds: {mean_last_100_seconds}\\n\")\n",
    "\n",
    "print(f\"Mean of last 100 secs over 5 rollouts: {np.mean(mean_collector)}\")\n",
    "\n",
    "with open(f\"../../michael_files/results_lengthX/last_100_seconds.txt\", \"a\") as f:\n",
    "    f.write(f\"Mean of last 100 secs over 5 rollouts: {np.mean(mean_collector)}\\n\")"
   ]
  },
  {
   "cell_type": "code",
   "execution_count": null,
   "id": "f8bc7614",
   "metadata": {},
   "outputs": [],
   "source": [
    "import numpy as np\n",
    "\n",
    "with open(f\"../../michael_files/results_lengthX/min_velocity.txt\", \"r+\") as f:\n",
    "    for line in f:\n",
    "        data = line.split(\",\")\n",
    "        data = data[:len(data)-1]\n",
    "        data = np.asarray([float(i) for i in data])\n",
    "        min_last_100_seconds = np.min(data[-1000:])\n",
    "        print(f\"Min Last 100 Seconds: {min_last_100_seconds}\")\n",
    "        with open(f\"../../michael_files/results_lengthX/last_100_seconds.txt\", \"a\") as g:\n",
    "            g.write(f\"Min Last 100 Seconds: {min_last_100_seconds}\\n\")"
   ]
  },
  {
   "cell_type": "markdown",
   "id": "d53987b3",
   "metadata": {},
   "source": [
    "## Charting Avg. Velocity for All Vehicles"
   ]
  },
  {
   "cell_type": "code",
   "execution_count": null,
   "id": "1b0d6f21",
   "metadata": {},
   "outputs": [],
   "source": [
    "import numpy as np\n",
    "import matplotlib.pyplot as plt\n",
    "\n",
    "with open(f\"../../michael_files/results_lengthX/avg_velocity.txt\", \"r+\") as f:\n",
    "    count = 0\n",
    "    for line in f:\n",
    "        data = line.split(\",\")\n",
    "        data = data[:len(data)-1]\n",
    "        data = np.asarray([float(i) for i in data])\n",
    "\n",
    "        fig, ax = plt.subplots(figsize=(8,8), dpi=100)\n",
    "        xticks = np.arange(0,len(data)+1,500)\n",
    "        ax.set_ylabel(\"Avg. Velocity\")\n",
    "        ax.set_xlabel(\"Timesteps\")\n",
    "        ax.plot(data)\n",
    "        ax.set_xticks(xticks) \n",
    "        fig.savefig(f\"../../michael_files/results_lengthX/avg_velocity{count}.png\")\n",
    "        \n",
    "        count += 1"
   ]
  },
  {
   "cell_type": "markdown",
   "id": "5e00782b",
   "metadata": {},
   "source": [
    "## Charting RL Velocity"
   ]
  },
  {
   "cell_type": "code",
   "execution_count": null,
   "id": "ce1cb027",
   "metadata": {},
   "outputs": [],
   "source": [
    "import numpy as np\n",
    "import matplotlib.pyplot as plt\n",
    "\n",
    "with open(f\"../../michael_files/results_lengthX/rl_velocity.txt\", \"r+\") as f:\n",
    "    count = 0\n",
    "    for line in f:\n",
    "        data = line.split(\",\")\n",
    "        data = data[:len(data)-1]\n",
    "        data = np.asarray([float(i) for i in data])\n",
    "\n",
    "        fig, ax = plt.subplots(figsize=(8,8), dpi=100)\n",
    "        xticks = np.arange(0,len(data)+1,500)\n",
    "        ax.set_ylabel(\"RL Velocity\")\n",
    "        ax.set_xlabel(\"Timesteps\")\n",
    "        ax.plot(data)\n",
    "        ax.set_xticks(xticks) \n",
    "        fig.savefig(f\"../../michael_files/results_lengthX/rl_velocity{count}.png\")\n",
    "        \n",
    "        count += 1"
   ]
  },
  {
   "cell_type": "markdown",
   "id": "7a9214ce",
   "metadata": {},
   "source": [
    "## Charting RL Realized Acceleration"
   ]
  },
  {
   "cell_type": "code",
   "execution_count": null,
   "id": "118991a0",
   "metadata": {},
   "outputs": [],
   "source": [
    "import numpy as np\n",
    "import matplotlib.pyplot as plt\n",
    "\n",
    "with open(f\"../../michael_files/results_lengthX/rl_accel_realized.txt\", \"r+\") as f:\n",
    "    count = 0\n",
    "    for line in f:\n",
    "        data = line.split(\",\")\n",
    "        data = data[:len(data)-1]\n",
    "        data = np.asarray([float(i) for i in data])\n",
    "\n",
    "        fig, ax = plt.subplots(figsize=(8,8), dpi=100)\n",
    "        xticks = np.arange(0,len(data)+1,500)\n",
    "        ax.set_ylabel(\"RL Accel. Realized\")\n",
    "        ax.set_xlabel(\"Timesteps\")\n",
    "        ax.plot(data)\n",
    "        ax.set_xticks(xticks) \n",
    "        fig.savefig(f\"../../michael_files/results_lengthX/rl_accel_realized{count}.png\")\n",
    "        \n",
    "        count += 1"
   ]
  },
  {
   "cell_type": "code",
   "execution_count": null,
   "id": "f6be1823",
   "metadata": {},
   "outputs": [],
   "source": [
    "\n"
   ]
  }
 ],
 "metadata": {
  "kernelspec": {
   "display_name": "Python 3 (ipykernel)",
   "language": "python",
   "name": "python3"
  },
  "language_info": {
   "codemirror_mode": {
    "name": "ipython",
    "version": 3
   },
   "file_extension": ".py",
   "mimetype": "text/x-python",
   "name": "python",
   "nbconvert_exporter": "python",
   "pygments_lexer": "ipython3",
   "version": "3.7.3"
  }
 },
 "nbformat": 4,
 "nbformat_minor": 5
}
