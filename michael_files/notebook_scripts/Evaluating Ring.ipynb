{
 "cells": [
  {
   "cell_type": "code",
   "execution_count": 1,
   "id": "02c712e1",
   "metadata": {
    "scrolled": false
   },
   "outputs": [
    {
     "name": "stderr",
     "output_type": "stream",
     "text": [
      "2023-01-21 20:46:36,845\tINFO services.py:1247 -- View the Ray dashboard at \u001b[1m\u001b[32mhttp://127.0.0.1:8265\u001b[39m\u001b[22m\n",
      "2023-01-21 20:46:37,415\tINFO trainer.py:720 -- Current log_level is WARN. For more information, set 'log_level': 'INFO' / 'DEBUG' or use the -v and -vv flags.\n",
      "2023-01-21 20:46:38,547\tWARNING util.py:55 -- Install gputil for GPU system monitoring.\n",
      "2023-01-21 20:46:38,570\tINFO trainable.py:383 -- Restored on 192.168.1.65 from checkpoint: /home/michael/ray_results/singleagent_ring/PPO_WaveAttenuationPOEnv-v0_f5ceb_00000_0_2023-01-20_23-32-14/checkpoint_174/checkpoint-174\n",
      "2023-01-21 20:46:38,571\tINFO trainable.py:390 -- Current state after restoring: {'_iteration': 174, '_timesteps_total': None, '_time_total': 5411.1016166210175, '_episodes_total': 870}\n"
     ]
    },
    {
     "name": "stdout",
     "output_type": "stream",
     "text": [
      "\n",
      "-----------------------\n",
      "ring length: 290\n",
      "v_max: 6.561614937661737\n",
      "-----------------------\n"
     ]
    },
    {
     "name": "stderr",
     "output_type": "stream",
     "text": [
      "2023-01-21 20:46:49,464\tWARNING deprecation.py:34 -- DeprecationWarning: `compute_action` has been deprecated. Use `compute_single_action` instead. This will raise an error in the future!\n"
     ]
    },
    {
     "name": "stdout",
     "output_type": "stream",
     "text": [
      "Round 0, Return: 2126.6990590096643\n",
      "==== Summary of results ====\n",
      "Return:\n",
      "[3.8693076120107914]\n",
      "[2126.6990590096643]\n",
      "Average, std: 2126.6990590096643, 0.0\n",
      "\n",
      "Speed, mean (m/s):\n",
      "[3.8693076120107914]\n",
      "Average, std: 3.8693076120107914, 0.0\n",
      "\n",
      "Speed, std (m/s):\n",
      "[1.6034848248697404]\n",
      "Average, std: 1.6034848248697404, 0.0\n",
      "\n",
      "Outflows (veh/hr):\n",
      "[0.0]\n",
      "Average, std: 0.0, 0.0\n",
      "Inflows (veh/hr):\n",
      "[0.0]\n",
      "Average, std: 0.0, 0.0\n",
      "Throughput efficiency (veh/hr):\n",
      "[0]\n",
      "Average, std: 0.0, 0.0\n"
     ]
    }
   ],
   "source": [
    "%run ../../flow/visualize/visualizer_rllib.py\\\n",
    "/home/michael/ray_results/singleagent_ring/PPO_WaveAttenuationPOEnv-v0_f5ceb_00000_0_2023-01-20_23-32-14/ 174\\\n",
    "--num_rollouts 1"
   ]
  },
  {
   "cell_type": "markdown",
   "id": "b14d89b2",
   "metadata": {},
   "source": [
    "## Mean and Min for Last 100 Seconds"
   ]
  },
  {
   "cell_type": "code",
   "execution_count": null,
   "id": "f85d9435",
   "metadata": {},
   "outputs": [],
   "source": [
    "import numpy as np\n",
    "\n",
    "mean_collector = []\n",
    "\n",
    "with open(f\"../../michael_files/results_lengthX/avg_velocity.txt\", \"r+\") as f:\n",
    "    for line in f:\n",
    "        data = line.split(\",\")\n",
    "        data = data[:len(data)-1]\n",
    "        data = np.asarray([float(i) for i in data])\n",
    "        mean_last_100_seconds = np.mean(data[-1000:])\n",
    "        mean_collector.append(mean_last_100_seconds)\n",
    "        print(f\"Mean Last 100 Seconds: {mean_last_100_seconds}\")\n",
    "        with open(f\"../../michael_files/results_lengthX/last_100_seconds.txt\", \"a\") as g:\n",
    "            g.write(f\"Mean Last 100 Seconds: {mean_last_100_seconds}\\n\")\n",
    "\n",
    "print(f\"Mean of last 100 secs over 5 rollouts: {np.mean(mean_collector)}\")\n",
    "\n",
    "with open(f\"../../michael_files/results_lengthX/last_100_seconds.txt\", \"a\") as f:\n",
    "    f.write(f\"Mean of last 100 secs over 5 rollouts: {np.mean(mean_collector)}\\n\")"
   ]
  },
  {
   "cell_type": "code",
   "execution_count": null,
   "id": "f8bc7614",
   "metadata": {},
   "outputs": [],
   "source": [
    "import numpy as np\n",
    "\n",
    "with open(f\"../../michael_files/results_lengthX/min_velocity.txt\", \"r+\") as f:\n",
    "    for line in f:\n",
    "        data = line.split(\",\")\n",
    "        data = data[:len(data)-1]\n",
    "        data = np.asarray([float(i) for i in data])\n",
    "        min_last_100_seconds = np.min(data[-1000:])\n",
    "        print(f\"Min Last 100 Seconds: {min_last_100_seconds}\")\n",
    "        with open(f\"../../michael_files/results_lengthX/last_100_seconds.txt\", \"a\") as g:\n",
    "            g.write(f\"Min Last 100 Seconds: {min_last_100_seconds}\\n\")"
   ]
  },
  {
   "cell_type": "markdown",
   "id": "d53987b3",
   "metadata": {},
   "source": [
    "## Charting Avg. Velocity for All Vehicles"
   ]
  },
  {
   "cell_type": "code",
   "execution_count": null,
   "id": "1b0d6f21",
   "metadata": {},
   "outputs": [],
   "source": [
    "import numpy as np\n",
    "import matplotlib.pyplot as plt\n",
    "\n",
    "with open(f\"../../michael_files/results_lengthX/avg_velocity.txt\", \"r+\") as f:\n",
    "    count = 0\n",
    "    for line in f:\n",
    "        data = line.split(\",\")\n",
    "        data = data[:len(data)-1]\n",
    "        data = np.asarray([float(i) for i in data])\n",
    "\n",
    "        fig, ax = plt.subplots(figsize=(8,8), dpi=100)\n",
    "        xticks = np.arange(0,len(data)+1,500)\n",
    "        ax.set_ylabel(\"Avg. Velocity\")\n",
    "        ax.set_xlabel(\"Timesteps\")\n",
    "        ax.plot(data)\n",
    "        ax.set_xticks(xticks) \n",
    "        fig.savefig(f\"../../michael_files/results_lengthX/avg_velocity{count}.png\")\n",
    "        \n",
    "        count += 1"
   ]
  },
  {
   "cell_type": "markdown",
   "id": "5e00782b",
   "metadata": {},
   "source": [
    "## Charting RL Velocity"
   ]
  },
  {
   "cell_type": "code",
   "execution_count": null,
   "id": "ce1cb027",
   "metadata": {},
   "outputs": [],
   "source": [
    "import numpy as np\n",
    "import matplotlib.pyplot as plt\n",
    "\n",
    "with open(f\"../../michael_files/results_lengthX/rl_velocity.txt\", \"r+\") as f:\n",
    "    count = 0\n",
    "    for line in f:\n",
    "        data = line.split(\",\")\n",
    "        data = data[:len(data)-1]\n",
    "        data = np.asarray([float(i) for i in data])\n",
    "\n",
    "        fig, ax = plt.subplots(figsize=(8,8), dpi=100)\n",
    "        xticks = np.arange(0,len(data)+1,500)\n",
    "        ax.set_ylabel(\"RL Velocity\")\n",
    "        ax.set_xlabel(\"Timesteps\")\n",
    "        ax.plot(data)\n",
    "        ax.set_xticks(xticks) \n",
    "        fig.savefig(f\"../../michael_files/results_lengthX/rl_velocity{count}.png\")\n",
    "        \n",
    "        count += 1"
   ]
  },
  {
   "cell_type": "markdown",
   "id": "7a9214ce",
   "metadata": {},
   "source": [
    "## Charting RL Realized Acceleration"
   ]
  },
  {
   "cell_type": "code",
   "execution_count": null,
   "id": "118991a0",
   "metadata": {},
   "outputs": [],
   "source": [
    "import numpy as np\n",
    "import matplotlib.pyplot as plt\n",
    "\n",
    "with open(f\"../../michael_files/results_lengthX/rl_accel_realized.txt\", \"r+\") as f:\n",
    "    count = 0\n",
    "    for line in f:\n",
    "        data = line.split(\",\")\n",
    "        data = data[:len(data)-1]\n",
    "        data = np.asarray([float(i) for i in data])\n",
    "\n",
    "        fig, ax = plt.subplots(figsize=(8,8), dpi=100)\n",
    "        xticks = np.arange(0,len(data)+1,500)\n",
    "        ax.set_ylabel(\"RL Accel. Realized\")\n",
    "        ax.set_xlabel(\"Timesteps\")\n",
    "        ax.plot(data)\n",
    "        ax.set_xticks(xticks) \n",
    "        fig.savefig(f\"../../michael_files/results_lengthX/rl_accel_realized{count}.png\")\n",
    "        \n",
    "        count += 1"
   ]
  },
  {
   "cell_type": "code",
   "execution_count": null,
   "id": "f6be1823",
   "metadata": {},
   "outputs": [],
   "source": [
    "\n"
   ]
  }
 ],
 "metadata": {
  "kernelspec": {
   "display_name": "Python 3 (ipykernel)",
   "language": "python",
   "name": "python3"
  },
  "language_info": {
   "codemirror_mode": {
    "name": "ipython",
    "version": 3
   },
   "file_extension": ".py",
   "mimetype": "text/x-python",
   "name": "python",
   "nbconvert_exporter": "python",
   "pygments_lexer": "ipython3",
   "version": "3.7.3"
  }
 },
 "nbformat": 4,
 "nbformat_minor": 5
}
