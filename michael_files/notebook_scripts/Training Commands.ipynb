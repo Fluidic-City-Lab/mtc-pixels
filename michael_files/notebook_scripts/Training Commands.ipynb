{
 "cells": [
  {
   "cell_type": "markdown",
   "id": "4ee0b83f",
   "metadata": {},
   "source": [
    "## Training Single Agent Ring Road"
   ]
  },
  {
   "cell_type": "code",
   "execution_count": null,
   "id": "ca396197",
   "metadata": {
    "scrolled": false
   },
   "outputs": [],
   "source": [
    "%run ../../examples/train.py singleagent_ring"
   ]
  },
  {
   "cell_type": "markdown",
   "id": "292158c8",
   "metadata": {},
   "source": [
    "## Training Multiagent Ring Road"
   ]
  },
  {
   "cell_type": "code",
   "execution_count": null,
   "id": "6b86141c",
   "metadata": {},
   "outputs": [],
   "source": []
  },
  {
   "cell_type": "markdown",
   "id": "efd1b369",
   "metadata": {},
   "source": [
    "## Training Single Agent Figure 8"
   ]
  },
  {
   "cell_type": "code",
   "execution_count": null,
   "id": "72727c90",
   "metadata": {
    "scrolled": false
   },
   "outputs": [],
   "source": [
    "%run ../../examples/train.py singleagent_figure_eight"
   ]
  },
  {
   "cell_type": "markdown",
   "id": "3a1078ac",
   "metadata": {},
   "source": [
    "## Training Intersection Network"
   ]
  },
  {
   "cell_type": "code",
   "execution_count": null,
   "id": "807ed4fc",
   "metadata": {},
   "outputs": [],
   "source": [
    "%run ../../examples/train.py intersection"
   ]
  },
  {
   "cell_type": "markdown",
   "id": "6b672450",
   "metadata": {},
   "source": [
    "## Training Bottleneck"
   ]
  },
  {
   "cell_type": "code",
   "execution_count": null,
   "id": "c5ff77cc",
   "metadata": {},
   "outputs": [],
   "source": [
    "%run ../../examples/train.py bottleneck0"
   ]
  },
  {
   "cell_type": "markdown",
   "id": "e1f50caa",
   "metadata": {},
   "source": [
    "## Training Merge Network"
   ]
  },
  {
   "cell_type": "code",
   "execution_count": null,
   "id": "0b88bd95",
   "metadata": {},
   "outputs": [],
   "source": [
    "%run ../../examples/train.py merge0"
   ]
  }
 ],
 "metadata": {
  "kernelspec": {
   "display_name": "Python 3 (ipykernel)",
   "language": "python",
   "name": "python3"
  },
  "language_info": {
   "codemirror_mode": {
    "name": "ipython",
    "version": 3
   },
   "file_extension": ".py",
   "mimetype": "text/x-python",
   "name": "python",
   "nbconvert_exporter": "python",
   "pygments_lexer": "ipython3",
   "version": "3.7.3"
  }
 },
 "nbformat": 4,
 "nbformat_minor": 5
}
