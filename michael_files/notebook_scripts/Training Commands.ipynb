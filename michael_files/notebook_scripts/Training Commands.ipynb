{
 "cells": [
  {
   "cell_type": "markdown",
   "id": "6c260093",
   "metadata": {},
   "source": [
    "## Training Single Agent Ring Road"
   ]
  },
  {
   "cell_type": "code",
   "execution_count": null,
   "id": "40ee1510",
   "metadata": {
    "scrolled": false
   },
   "outputs": [],
   "source": [
    "%run ../../examples/train.py singleagent_ring"
   ]
  },
  {
   "cell_type": "markdown",
   "id": "a4c6143c",
   "metadata": {},
   "source": [
    "## Training Multiagent Ring Road"
   ]
  },
  {
   "cell_type": "code",
   "execution_count": null,
   "id": "cee41dfa",
   "metadata": {
    "scrolled": false
   },
   "outputs": [],
   "source": [
    "%run ../../examples/train.py multiagent_ring"
   ]
  },
  {
   "cell_type": "markdown",
   "id": "0a6e1176",
   "metadata": {},
   "source": [
    "## Training Single Agent Figure 8"
   ]
  },
  {
   "cell_type": "code",
   "execution_count": null,
   "id": "ce197386",
   "metadata": {
    "scrolled": false
   },
   "outputs": [],
   "source": [
    "%run ../../examples/train.py singleagent_figure_eight"
   ]
  },
  {
   "cell_type": "markdown",
   "id": "e61a7b2a",
   "metadata": {},
   "source": [
    "## Training Intersection Network"
   ]
  },
  {
   "cell_type": "code",
   "execution_count": null,
   "id": "b1789eb3",
   "metadata": {},
   "outputs": [],
   "source": [
    "%run ../../examples/train.py intersection"
   ]
  },
  {
   "cell_type": "markdown",
   "id": "51244303",
   "metadata": {},
   "source": [
    "## Training Bottleneck"
   ]
  },
  {
   "cell_type": "code",
   "execution_count": null,
   "id": "9e6692bc",
   "metadata": {},
   "outputs": [],
   "source": [
    "%run ../../examples/train.py bottleneck0"
   ]
  },
  {
   "cell_type": "markdown",
   "id": "7fb5d45a",
   "metadata": {},
   "source": [
    "## Training Merge Network"
   ]
  },
  {
   "cell_type": "code",
   "execution_count": null,
   "id": "08a6cf15",
   "metadata": {
    "scrolled": true
   },
   "outputs": [],
   "source": [
    "%run ../../examples/train.py merge0"
   ]
  },
  {
   "cell_type": "code",
   "execution_count": null,
   "id": "376dbf4d",
   "metadata": {},
   "outputs": [],
   "source": []
  }
 ],
 "metadata": {
  "kernelspec": {
   "display_name": "Python 3 (ipykernel)",
   "language": "python",
   "name": "python3"
  },
  "language_info": {
   "codemirror_mode": {
    "name": "ipython",
    "version": 3
   },
   "file_extension": ".py",
   "mimetype": "text/x-python",
   "name": "python",
   "nbconvert_exporter": "python",
   "pygments_lexer": "ipython3",
   "version": "3.7.3"
  }
 },
 "nbformat": 4,
 "nbformat_minor": 5
}
