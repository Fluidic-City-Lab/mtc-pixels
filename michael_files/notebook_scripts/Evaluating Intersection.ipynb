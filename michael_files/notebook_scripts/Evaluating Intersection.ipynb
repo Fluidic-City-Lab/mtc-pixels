{
 "cells": [
  {
   "cell_type": "code",
   "execution_count": null,
   "id": "7130b8e3",
   "metadata": {
    "scrolled": false
   },
   "outputs": [],
   "source": [
    "%run ../../flow/visualize/visualizer_rllib.py\\\n",
    "/home/michael/ray_results/grid_0/PPO_TrafficLightGridPOEnv-v0_60823_00000_0_2022-12-09_21-04-35/ 49\\\n",
    "--num_rollouts 10"
   ]
  }
 ],
 "metadata": {
  "kernelspec": {
   "display_name": "Python 3 (ipykernel)",
   "language": "python",
   "name": "python3"
  },
  "language_info": {
   "codemirror_mode": {
    "name": "ipython",
    "version": 3
   },
   "file_extension": ".py",
   "mimetype": "text/x-python",
   "name": "python",
   "nbconvert_exporter": "python",
   "pygments_lexer": "ipython3",
   "version": "3.7.3"
  }
 },
 "nbformat": 4,
 "nbformat_minor": 5
}
