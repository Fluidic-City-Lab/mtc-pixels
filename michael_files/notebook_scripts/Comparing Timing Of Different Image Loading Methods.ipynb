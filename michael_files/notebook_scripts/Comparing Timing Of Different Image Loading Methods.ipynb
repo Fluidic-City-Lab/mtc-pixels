{
 "cells": [
  {
   "cell_type": "code",
   "execution_count": 1,
   "id": "caf9dd71",
   "metadata": {
    "scrolled": false
   },
   "outputs": [
    {
     "name": "stdout",
     "output_type": "stream",
     "text": [
      "Mean time taken (SUMO Full Observations): 0.002207519802898282\n"
     ]
    }
   ],
   "source": [
    "import numpy as np\n",
    "\n",
    "time_taken_SFO = []\n",
    "with open(\"./time_taken_files/time_taken_SFO09b7.txt\", \"r\") as logfile:\n",
    "    for line in logfile:\n",
    "        time_taken = 0.\n",
    "        data = line.split(',')\n",
    "        time_taken = float(data[0]) + float(data[1])\n",
    "        time_taken_SFO.append(time_taken)\n",
    "\n",
    "mean_time_taken_SFO = np.mean(time_taken_SFO)\n",
    "print(\"Mean time taken (SUMO Full Observations):\", mean_time_taken_SFO)"
   ]
  },
  {
   "cell_type": "code",
   "execution_count": 2,
   "id": "db0cbd58",
   "metadata": {},
   "outputs": [
    {
     "name": "stdout",
     "output_type": "stream",
     "text": [
      "Mean time taken (SUMO Partial Observations): 0.0016058225595452487\n"
     ]
    }
   ],
   "source": [
    "import numpy as np\n",
    "\n",
    "time_taken_SPO = []\n",
    "with open(\"./time_taken_files/time_taken_SPO2e92.txt\", \"r\") as logfile:\n",
    "    for line in logfile:\n",
    "        time_taken = 0.\n",
    "        data = line.split(',')\n",
    "        time_taken = float(data[0]) + float(data[1])\n",
    "        time_taken_SPO.append(time_taken)\n",
    "\n",
    "mean_time_taken_SPO = np.mean(time_taken_SPO)\n",
    "print(f\"Mean time taken (SUMO Partial Observations): {mean_time_taken_SPO}\")"
   ]
  },
  {
   "cell_type": "code",
   "execution_count": 3,
   "id": "cc5f5b1d",
   "metadata": {},
   "outputs": [
    {
     "name": "stdout",
     "output_type": "stream",
     "text": [
      "Mean time taken (Pyglet Renderer Full Observations): 0.02691202812442192\n"
     ]
    }
   ],
   "source": [
    "import numpy as np\n",
    "\n",
    "time_taken_PFO = []\n",
    "with open(\"./time_taken_files/time_taken_PFO5ea0.txt\", \"r\") as logfile:\n",
    "    for line in logfile:\n",
    "        time_taken = 0.\n",
    "        data = line.split(',')\n",
    "        time_taken = float(data[0]) + float(data[1])\n",
    "        time_taken_PFO.append(time_taken)\n",
    "\n",
    "mean_time_taken_PFO = np.mean(time_taken_PFO)\n",
    "print(\"Mean time taken (Pyglet Renderer Full Observations):\", mean_time_taken_PFO)"
   ]
  },
  {
   "cell_type": "code",
   "execution_count": 4,
   "id": "3082f71b",
   "metadata": {},
   "outputs": [
    {
     "name": "stdout",
     "output_type": "stream",
     "text": [
      "Mean time taken (Pyglet Renderer Partial Observations): 0.026655784131888335\n"
     ]
    }
   ],
   "source": [
    "import numpy as np\n",
    "\n",
    "time_taken_PPO = []\n",
    "with open(\"./time_taken_files/time_taken_PPO93a1.txt\", \"r\") as logfile:\n",
    "    for line in logfile:\n",
    "        time_taken = 0.\n",
    "        data = line.split(',')\n",
    "        time_taken = float(data[0]) + float(data[1])\n",
    "        time_taken_PPO.append(time_taken)\n",
    "\n",
    "mean_time_taken_PPO = np.mean(time_taken_PPO)\n",
    "print(\"Mean time taken (Pyglet Renderer Partial Observations):\", mean_time_taken_PPO)"
   ]
  },
  {
   "cell_type": "code",
   "execution_count": 5,
   "id": "bad4f80e",
   "metadata": {},
   "outputs": [
    {
     "name": "stdout",
     "output_type": "stream",
     "text": [
      "Mean time taken (Matplotlib Partial Observations): 0.03239431373680694\n"
     ]
    }
   ],
   "source": [
    "import numpy as np\n",
    "\n",
    "time_taken_MPO = []\n",
    "with open(\"./time_taken_files/time_taken_MPO6e0f.txt\", \"r\") as logfile:\n",
    "    for line in logfile:\n",
    "        time_taken = 0.\n",
    "        data = line.split(',')\n",
    "        time_taken = float(data[0])\n",
    "        time_taken_MPO.append(time_taken)\n",
    "\n",
    "mean_time_taken_MPO = np.mean(time_taken_MPO)\n",
    "print(f\"Mean time taken (Matplotlib Partial Observations): {mean_time_taken_MPO}\")"
   ]
  },
  {
   "cell_type": "code",
   "execution_count": 6,
   "id": "55feff8a",
   "metadata": {},
   "outputs": [
    {
     "name": "stdout",
     "output_type": "stream",
     "text": [
      "Mean time taken (Matplotlib Full Observations): 0.030469631231748142\n"
     ]
    }
   ],
   "source": [
    "import numpy as np\n",
    "\n",
    "time_taken_MFO = []\n",
    "with open(\"./time_taken_files/time_taken_MFO7ada.txt\", \"r\") as logfile:\n",
    "    for line in logfile:\n",
    "        time_taken = 0.\n",
    "        data = line.split(',')\n",
    "        time_taken = float(data[0])\n",
    "        time_taken_MFO.append(time_taken)\n",
    "\n",
    "mean_time_taken_MFO = np.mean(time_taken_MFO)\n",
    "print(f\"Mean time taken (Matplotlib Full Observations): {mean_time_taken_MFO}\")"
   ]
  },
  {
   "cell_type": "code",
   "execution_count": null,
   "id": "5376015a",
   "metadata": {},
   "outputs": [],
   "source": []
  }
 ],
 "metadata": {
  "kernelspec": {
   "display_name": "Python 3 (ipykernel)",
   "language": "python",
   "name": "python3"
  },
  "language_info": {
   "codemirror_mode": {
    "name": "ipython",
    "version": 3
   },
   "file_extension": ".py",
   "mimetype": "text/x-python",
   "name": "python",
   "nbconvert_exporter": "python",
   "pygments_lexer": "ipython3",
   "version": "3.7.3"
  }
 },
 "nbformat": 4,
 "nbformat_minor": 5
}
