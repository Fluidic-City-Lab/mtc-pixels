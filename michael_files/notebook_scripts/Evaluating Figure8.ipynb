{
 "cells": [
  {
   "cell_type": "code",
   "execution_count": 1,
   "id": "02c712e1",
   "metadata": {
    "scrolled": false
   },
   "outputs": [
    {
     "name": "stderr",
     "output_type": "stream",
     "text": [
      "2023-01-07 09:05:14,882\tINFO services.py:1247 -- View the Ray dashboard at \u001b[1m\u001b[32mhttp://127.0.0.1:8266\u001b[39m\u001b[22m\n",
      "2023-01-07 09:05:15,438\tINFO trainer.py:720 -- Current log_level is WARN. For more information, set 'log_level': 'INFO' / 'DEBUG' or use the -v and -vv flags.\n",
      "2023-01-07 09:05:16,585\tWARNING util.py:55 -- Install gputil for GPU system monitoring.\n",
      "2023-01-07 09:05:16,606\tINFO trainable.py:383 -- Restored on 192.168.1.65 from checkpoint: /home/michael/ray_results/singleagent_figure_eight/PPO_AccelEnv-v0_c3987_00000_0_2023-01-07_00-23-13/checkpoint_119/checkpoint-119\n",
      "2023-01-07 09:05:16,607\tINFO trainable.py:390 -- Current state after restoring: {'_iteration': 119, '_timesteps_total': None, '_time_total': 6637.01594042778, '_episodes_total': 1202}\n"
     ]
    },
    {
     "name": "stdout",
     "output_type": "stream",
     "text": [
      "\n",
      "-----------------------\n",
      "ring radius: 25.9\n",
      "-----------------------\n"
     ]
    },
    {
     "name": "stderr",
     "output_type": "stream",
     "text": [
      "2023-01-07 09:05:21,152\tWARNING deprecation.py:34 -- DeprecationWarning: `compute_action` has been deprecated. Use `compute_single_action` instead. This will raise an error in the future!\n"
     ]
    },
    {
     "name": "stdout",
     "output_type": "stream",
     "text": [
      "Round 0, Return: 786.0204746901832\n",
      "\n",
      "-----------------------\n",
      "ring radius: 25.1\n",
      "-----------------------\n",
      "Round 1, Return: 782.4149715836824\n",
      "\n",
      "-----------------------\n",
      "ring radius: 20.5\n",
      "-----------------------\n",
      " Retrying in 1 seconds\n",
      "Round 2, Return: 483.45685143048445\n",
      "\n",
      "-----------------------\n",
      "ring radius: 21.0\n",
      "-----------------------\n",
      "Round 3, Return: 468.1578824473205\n",
      "\n",
      "-----------------------\n",
      "ring radius: 29.7\n",
      "-----------------------\n",
      " Retrying in 1 seconds\n",
      "Round 4, Return: 835.0995234941371\n",
      "\n",
      "-----------------------\n",
      "ring radius: 23.8\n",
      "-----------------------\n",
      "Round 5, Return: 578.4836648708737\n",
      "\n",
      "-----------------------\n",
      "ring radius: 23.7\n",
      "-----------------------\n",
      " Retrying in 1 seconds\n",
      "Round 6, Return: 816.5287049702055\n",
      "\n",
      "-----------------------\n",
      "ring radius: 26.3\n",
      "-----------------------\n",
      " Retrying in 1 seconds\n",
      "Round 7, Return: 991.6669534152743\n",
      "\n",
      "-----------------------\n",
      "ring radius: 24.5\n",
      "-----------------------\n",
      "Round 8, Return: 883.9563187592571\n",
      "\n",
      "-----------------------\n",
      "ring radius: 29.3\n",
      "-----------------------\n",
      "Round 9, Return: 1080.8932197323518\n",
      "==== Summary of results ====\n",
      "Return:\n",
      "[3.957907892089035, 3.958511325625936, 3.286689813206273, 3.0880086007592835, 4.0147367671208265, 3.3657873601386714, 4.0523727685294135, 4.507180559399918, 4.203432568627758, 4.759187697759997]\n",
      "[786.0204746901832, 782.4149715836824, 483.45685143048445, 468.1578824473205, 835.0995234941371, 578.4836648708737, 816.5287049702055, 991.6669534152743, 883.9563187592571, 1080.8932197323518]\n",
      "Average, std: 770.6678565393771, 193.77311903092925\n",
      "\n",
      "Speed, mean (m/s):\n",
      "[3.957907892089035, 3.958511325625936, 3.286689813206273, 3.0880086007592835, 4.0147367671208265, 3.3657873601386714, 4.0523727685294135, 4.507180559399918, 4.203432568627758, 4.759187697759997]\n",
      "Average, std: 3.9193815353257113, 0.5058861595308141\n",
      "\n",
      "Speed, std (m/s):\n",
      "[1.1728067314240287, 0.6818062551991544, 0.45768281165319735, 0.8687915743128851, 1.2200314084687423, 1.2633238054265548, 1.0539289988083085, 0.7577581379301539, 1.0508828585044847, 1.2387505173017774]\n",
      "Average, std: 0.9765763099029288, 0.25997690195398615\n",
      "\n",
      "Outflows (veh/hr):\n",
      "[0.0, 0.0, 0.0, 0.0, 0.0, 0.0, 0.0, 0.0, 0.0, 0.0]\n",
      "Average, std: 0.0, 0.0\n",
      "Inflows (veh/hr):\n",
      "[0.0, 0.0, 0.0, 0.0, 0.0, 0.0, 0.0, 0.0, 0.0, 0.0]\n",
      "Average, std: 0.0, 0.0\n",
      "Throughput efficiency (veh/hr):\n",
      "[0, 0, 0, 0, 0, 0, 0, 0, 0, 0]\n",
      "Average, std: 0.0, 0.0\n"
     ]
    }
   ],
   "source": [
    "%run ../../flow/visualize/visualizer_rllib.py\\\n",
    "/home/michael/ray_results/singleagent_figure_eight/PPO_AccelEnv-v0_c3987_00000_0_2023-01-07_00-23-13/ 119\\\n",
    "--num_rollouts 10"
   ]
  },
  {
   "cell_type": "markdown",
   "id": "17ef9ffb",
   "metadata": {},
   "source": [
    "### Trial Results Directory Name"
   ]
  },
  {
   "cell_type": "code",
   "execution_count": 2,
   "id": "74ae7156",
   "metadata": {},
   "outputs": [],
   "source": [
    "results_dir_name = \"trial_results\""
   ]
  },
  {
   "cell_type": "markdown",
   "id": "e7ea54c9",
   "metadata": {},
   "source": [
    "## Mean Over Rollout"
   ]
  },
  {
   "cell_type": "code",
   "execution_count": 3,
   "id": "40e41319",
   "metadata": {},
   "outputs": [
    {
     "name": "stdout",
     "output_type": "stream",
     "text": [
      "Mean Velocity Over Rollout: 5.387582023178836\n",
      "Mean Velocity Over Rollout: 5.4611482527611415\n",
      "Mean Velocity Over Rollout: 5.312099627326865\n",
      "Mean Velocity Over Rollout: 5.574766209931125\n",
      "Mean Velocity Over Rollout: 5.615917245034208\n",
      "Mean Velocity Over Rollout: 5.200057927150951\n",
      "Mean Velocity Over Rollout: 5.561172329772565\n",
      "Mean Velocity Over Rollout: 5.462195917558653\n",
      "Mean Velocity Over Rollout: 5.190769749377462\n",
      "Mean Velocity Over Rollout: 5.532038944535457\n",
      "Mean Velocity Over Rollout: 4.316072183670274\n",
      "Mean Velocity Over Rollout: 4.192955616553952\n",
      "Mean Velocity Over Rollout: 3.4785223435104617\n",
      "Mean Velocity Over Rollout: 3.3633891145885206\n",
      "Mean Velocity Over Rollout: 4.551798174603367\n",
      "Mean Velocity Over Rollout: 3.7371889268932854\n",
      "Mean Velocity Over Rollout: 4.187997738448291\n",
      "Mean Velocity Over Rollout: 4.652244365160273\n",
      "Mean Velocity Over Rollout: 4.347887411894697\n",
      "Mean Velocity Over Rollout: 5.112685237463531\n"
     ]
    }
   ],
   "source": [
    "import numpy as np\n",
    "\n",
    "mean_collector = []\n",
    "\n",
    "with open(f\"../../michael_files/{results_dir_name}/avg_velocity.txt\", \"r+\") as f:\n",
    "    for line in f:\n",
    "        data = line.split(\",\")\n",
    "        data = data[:len(data)-1]\n",
    "        data = np.asarray([float(i) for i in data])\n",
    "        mean_vehs = np.mean(data)\n",
    "        mean_collector.append(mean_vehs)\n",
    "        print(f\"Mean Velocity Over Rollout: {mean_vehs}\")\n",
    "        with open(f\"../../michael_files/{results_dir_name}/mean_rollout_velocity.txt\", \"a\") as g:\n",
    "            g.write(f\"Mean Velocity Over Rollout: {mean_vehs}\\n\")\n",
    "\n",
    "with open(f\"../../michael_files/{results_dir_name}/mean_rollout_velocity.txt\", \"a\") as g:\n",
    "    mean_rollout = np.mean(mean_collector)\n",
    "    std_rollout = np.std(mean_collector)\n",
    "    var_rollout = np.var(mean_collector)\n",
    "    \n",
    "    g.write(f\"Mean of Rollouts: {mean_rollout}\\n\")\n",
    "    g.write(f\"Std of Rollouts: {std_rollout}\\n\")\n",
    "    g.write(f\"Variance of Rollouts: {var_rollout}\\n\")"
   ]
  },
  {
   "cell_type": "markdown",
   "id": "b14d89b2",
   "metadata": {},
   "source": [
    "## Mean and Min for Last 100 Seconds"
   ]
  },
  {
   "cell_type": "code",
   "execution_count": 4,
   "id": "f85d9435",
   "metadata": {},
   "outputs": [
    {
     "name": "stdout",
     "output_type": "stream",
     "text": [
      "Mean Last 100 Seconds: 5.0543583922087425\n",
      "Mean Last 100 Seconds: 5.132464444834779\n",
      "Mean Last 100 Seconds: 5.093580512772961\n",
      "Mean Last 100 Seconds: 5.359816870336732\n",
      "Mean Last 100 Seconds: 5.425691092809452\n",
      "Mean Last 100 Seconds: 4.9217332460165855\n",
      "Mean Last 100 Seconds: 5.2466335916059545\n",
      "Mean Last 100 Seconds: 5.206034826664179\n",
      "Mean Last 100 Seconds: 4.933681024773358\n",
      "Mean Last 100 Seconds: 5.407033840494092\n",
      "Mean Last 100 Seconds: 4.089545608700054\n",
      "Mean Last 100 Seconds: 4.081922430504458\n",
      "Mean Last 100 Seconds: 3.362688018637438\n",
      "Mean Last 100 Seconds: 3.0082654782787697\n",
      "Mean Last 100 Seconds: 4.0458229142522315\n",
      "Mean Last 100 Seconds: 3.4044359303685954\n",
      "Mean Last 100 Seconds: 4.311050604780403\n",
      "Mean Last 100 Seconds: 4.735033267295783\n",
      "Mean Last 100 Seconds: 4.500844266656788\n",
      "Mean Last 100 Seconds: 5.242200331433572\n",
      "Mean of last 100 secs over rollouts: 4.628141834671246\n"
     ]
    }
   ],
   "source": [
    "import numpy as np\n",
    "\n",
    "mean_collector = []\n",
    "\n",
    "with open(f\"../../michael_files/{results_dir_name}/avg_velocity.txt\", \"r+\") as f:\n",
    "    for line in f:\n",
    "        data = line.split(\",\")\n",
    "        data = data[:len(data)-1]\n",
    "        data = np.asarray([float(i) for i in data])\n",
    "        mean_last_100_seconds = np.mean(data[-1000:])\n",
    "        mean_collector.append(mean_last_100_seconds)\n",
    "        print(f\"Mean Last 100 Seconds: {mean_last_100_seconds}\")\n",
    "        with open(f\"../../michael_files/{results_dir_name}/last_100_seconds.txt\", \"a\") as g:\n",
    "            g.write(f\"Mean Last 100 Seconds: {mean_last_100_seconds}\\n\")\n",
    "\n",
    "print(f\"Mean of last 100 secs over rollouts: {np.mean(mean_collector)}\")\n",
    "\n",
    "with open(f\"../../michael_files/{results_dir_name}/last_100_seconds.txt\", \"a\") as g:\n",
    "    g.write(f\"Mean of last 100 secs over rollouts: {np.mean(mean_collector)}\\n\")\n",
    "    \n",
    "    std_100 = np.std(mean_collector)\n",
    "    var_100 = np.var(mean_collector)\n",
    "    \n",
    "    g.write(f\"Std of last 100 secs over rollouts: {std_100}\\n\")\n",
    "    g.write(f\"Variance of last 100 secs over rollouts: {var_100}\\n\")"
   ]
  },
  {
   "cell_type": "code",
   "execution_count": 5,
   "id": "f8bc7614",
   "metadata": {},
   "outputs": [
    {
     "name": "stdout",
     "output_type": "stream",
     "text": [
      "Min Last 100 Seconds: 0.0\n",
      "Min Last 100 Seconds: 0.0\n",
      "Min Last 100 Seconds: 0.0\n",
      "Min Last 100 Seconds: 0.0\n",
      "Min Last 100 Seconds: 0.0\n",
      "Min Last 100 Seconds: 0.0\n",
      "Min Last 100 Seconds: 0.0\n",
      "Min Last 100 Seconds: 0.0\n",
      "Min Last 100 Seconds: 0.0\n",
      "Min Last 100 Seconds: 0.0\n",
      "Min Last 100 Seconds: 0.46833017360448137\n",
      "Min Last 100 Seconds: 0.0\n",
      "Min Last 100 Seconds: 0.0\n",
      "Min Last 100 Seconds: 0.0\n",
      "Min Last 100 Seconds: 0.20969437991015333\n",
      "Min Last 100 Seconds: 0.0\n",
      "Min Last 100 Seconds: 0.0\n",
      "Min Last 100 Seconds: 1.116464530053934\n",
      "Min Last 100 Seconds: 0.0\n",
      "Min Last 100 Seconds: 5.6012264958841307e-11\n"
     ]
    }
   ],
   "source": [
    "import numpy as np\n",
    "\n",
    "with open(f\"../../michael_files/{results_dir_name}/min_velocity.txt\", \"r+\") as f:\n",
    "    for line in f:\n",
    "        data = line.split(\",\")\n",
    "        data = data[:len(data)-1]\n",
    "        data = np.asarray([float(i) for i in data])\n",
    "        min_last_100_seconds = np.min(data[-1000:])\n",
    "        print(f\"Min Last 100 Seconds: {min_last_100_seconds}\")\n",
    "        with open(f\"../../michael_files/{results_dir_name}/last_100_seconds.txt\", \"a\") as g:\n",
    "            g.write(f\"Min Last 100 Seconds: {min_last_100_seconds}\\n\")"
   ]
  },
  {
   "cell_type": "markdown",
   "id": "d53987b3",
   "metadata": {},
   "source": [
    "## Charting Avg. Velocity for All Vehicles"
   ]
  },
  {
   "cell_type": "code",
   "execution_count": 6,
   "id": "1b0d6f21",
   "metadata": {},
   "outputs": [
    {
     "name": "stdout",
     "output_type": "stream",
     "text": [
      "Figure(800x800)\n",
      "Figure(800x800)\n",
      "Figure(800x800)\n",
      "Figure(800x800)\n",
      "Figure(800x800)\n",
      "Figure(800x800)\n",
      "Figure(800x800)\n",
      "Figure(800x800)\n",
      "Figure(800x800)\n",
      "Figure(800x800)\n",
      "Figure(800x800)\n",
      "Figure(800x800)\n",
      "Figure(800x800)\n",
      "Figure(800x800)\n",
      "Figure(800x800)\n",
      "Figure(800x800)\n",
      "Figure(800x800)\n",
      "Figure(800x800)\n",
      "Figure(800x800)\n",
      "Figure(800x800)\n"
     ]
    }
   ],
   "source": [
    "import numpy as np\n",
    "import matplotlib.pyplot as plt\n",
    "\n",
    "with open(f\"../../michael_files/{results_dir_name}/avg_velocity.txt\", \"r+\") as f:\n",
    "    count = 0\n",
    "    for line in f:\n",
    "        data = line.split(\",\")\n",
    "        data = data[:len(data)-1]\n",
    "        data = np.asarray([float(i) for i in data])\n",
    "\n",
    "        fig, ax = plt.subplots(figsize=(8,8), dpi=100)\n",
    "        xticks = np.arange(0,len(data)+1,500)\n",
    "        ax.set_ylabel(\"Avg. Velocity\")\n",
    "        ax.set_xlabel(\"Timesteps\")\n",
    "        ax.plot(data)\n",
    "        ax.set_xticks(xticks) \n",
    "        fig.savefig(f\"../../michael_files/{results_dir_name}/avg_velocity{count}.png\")\n",
    "        \n",
    "        count += 1"
   ]
  },
  {
   "cell_type": "markdown",
   "id": "5e00782b",
   "metadata": {},
   "source": [
    "## Charting RL Velocity"
   ]
  },
  {
   "cell_type": "code",
   "execution_count": 7,
   "id": "ce1cb027",
   "metadata": {
    "scrolled": true
   },
   "outputs": [
    {
     "name": "stdout",
     "output_type": "stream",
     "text": [
      "Figure(800x800)\n",
      "Figure(800x800)\n",
      "Figure(800x800)\n",
      "Figure(800x800)\n",
      "Figure(800x800)\n",
      "Figure(800x800)\n",
      "Figure(800x800)\n",
      "Figure(800x800)\n",
      "Figure(800x800)\n",
      "Figure(800x800)\n",
      "Figure(800x800)\n",
      "Figure(800x800)\n",
      "Figure(800x800)\n",
      "Figure(800x800)\n",
      "Figure(800x800)\n",
      "Figure(800x800)\n",
      "Figure(800x800)\n",
      "Figure(800x800)\n",
      "Figure(800x800)\n",
      "Figure(800x800)\n"
     ]
    }
   ],
   "source": [
    "import numpy as np\n",
    "import matplotlib.pyplot as plt\n",
    "\n",
    "with open(f\"../../michael_files/{results_dir_name}/rl_velocity.txt\", \"r+\") as f:\n",
    "    count = 0\n",
    "    for line in f:\n",
    "        data = line.split(\",\")\n",
    "        data = data[:len(data)-1]\n",
    "        data = np.asarray([float(i) for i in data])\n",
    "\n",
    "        fig, ax = plt.subplots(figsize=(8,8), dpi=100)\n",
    "        xticks = np.arange(0,len(data)+1,500)\n",
    "        ax.set_ylabel(\"RL Velocity\")\n",
    "        ax.set_xlabel(\"Timesteps\")\n",
    "        ax.plot(data)\n",
    "        ax.set_xticks(xticks) \n",
    "        fig.savefig(f\"../../michael_files/{results_dir_name}/rl_velocity{count}.png\")\n",
    "        \n",
    "        count += 1"
   ]
  },
  {
   "cell_type": "markdown",
   "id": "7a9214ce",
   "metadata": {},
   "source": [
    "## Charting RL Realized Acceleration"
   ]
  },
  {
   "cell_type": "code",
   "execution_count": 8,
   "id": "118991a0",
   "metadata": {},
   "outputs": [
    {
     "name": "stdout",
     "output_type": "stream",
     "text": [
      "Figure(800x800)\n",
      "Figure(800x800)\n",
      "Figure(800x800)\n",
      "Figure(800x800)\n",
      "Figure(800x800)\n",
      "Figure(800x800)\n",
      "Figure(800x800)\n",
      "Figure(800x800)\n",
      "Figure(800x800)\n",
      "Figure(800x800)\n",
      "Figure(800x800)\n",
      "Figure(800x800)\n",
      "Figure(800x800)\n",
      "Figure(800x800)\n",
      "Figure(800x800)\n",
      "Figure(800x800)\n",
      "Figure(800x800)\n",
      "Figure(800x800)\n",
      "Figure(800x800)\n",
      "Figure(800x800)\n"
     ]
    }
   ],
   "source": [
    "import numpy as np\n",
    "import matplotlib.pyplot as plt\n",
    "\n",
    "with open(f\"../../michael_files/{results_dir_name}/rl_accel_realized.txt\", \"r+\") as f:\n",
    "    count = 0\n",
    "    for line in f:\n",
    "        data = line.split(\",\")\n",
    "        data = data[:len(data)-1]\n",
    "        data = np.asarray([float(i) for i in data])\n",
    "\n",
    "        fig, ax = plt.subplots(figsize=(8,8), dpi=100)\n",
    "        xticks = np.arange(0,len(data)+1,500)\n",
    "        ax.set_ylabel(\"RL Accel. Realized\")\n",
    "        ax.set_xlabel(\"Timesteps\")\n",
    "        ax.plot(data)\n",
    "        ax.set_xticks(xticks) \n",
    "        fig.savefig(f\"../../michael_files/{results_dir_name}/rl_accel_realized{count}.png\")\n",
    "        \n",
    "        count += 1"
   ]
  }
 ],
 "metadata": {
  "kernelspec": {
   "display_name": "Python 3 (ipykernel)",
   "language": "python",
   "name": "python3"
  },
  "language_info": {
   "codemirror_mode": {
    "name": "ipython",
    "version": 3
   },
   "file_extension": ".py",
   "mimetype": "text/x-python",
   "name": "python",
   "nbconvert_exporter": "python",
   "pygments_lexer": "ipython3",
   "version": "3.7.3"
  }
 },
 "nbformat": 4,
 "nbformat_minor": 5
}
