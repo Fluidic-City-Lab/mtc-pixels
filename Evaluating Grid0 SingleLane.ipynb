{
 "cells": [
  {
   "cell_type": "code",
   "execution_count": 1,
   "id": "7130b8e3",
   "metadata": {
    "scrolled": false
   },
   "outputs": [
    {
     "name": "stdout",
     "output_type": "stream",
     "text": [
      "2022-10-30 14:16:04,182\tINFO services.py:1247 -- View the Ray dashboard at \u001b[1m\u001b[32mhttp://127.0.0.1:8265\u001b[39m\u001b[22m\n",
      "2022-10-30 14:16:04,733\tINFO trainer.py:720 -- Current log_level is WARN. For more information, set 'log_level': 'INFO' / 'DEBUG' or use the -v and -vv flags.\n",
      "2022-10-30 14:16:05,858\tWARNING util.py:55 -- Install gputil for GPU system monitoring.\n",
      "2022-10-30 14:16:05,877\tINFO trainable.py:383 -- Restored on 192.168.1.65 from checkpoint: /home/michael/ray_results/grid_0/PPO_TrafficLightGridBenchmarkEnv-v0_2e641_00000_0_2022-10-29_02-42-04/checkpoint_56/checkpoint-56\n",
      "2022-10-30 14:16:05,877\tINFO trainable.py:390 -- Current state after restoring: {'_iteration': 56, '_timesteps_total': None, '_time_total': 2150.0342144966125, '_episodes_total': 560}\n",
      "2022-10-30 14:16:08,107\tWARNING deprecation.py:34 -- DeprecationWarning: `compute_action` has been deprecated. Use `compute_single_action` instead. This will raise an error in the future!\n",
      "Round 0, Return: -168.00284011543442\n",
      " Retrying in 1 seconds\n",
      "Round 1, Return: -169.5717278232032\n",
      " Retrying in 1 seconds\n",
      "Round 2, Return: -165.29452757932094\n",
      " Retrying in 1 seconds\n",
      "Round 3, Return: -165.23983866416648\n",
      " Retrying in 1 seconds\n",
      "Round 4, Return: -159.5107720112938\n",
      " Retrying in 1 seconds\n",
      "Round 5, Return: -161.98407964684114\n",
      "Round 6, Return: -167.52315401301573\n",
      " Retrying in 1 seconds\n",
      "Round 7, Return: -173.87915621291083\n",
      "Round 8, Return: -162.7268531711045\n",
      " Retrying in 1 seconds\n",
      "Round 9, Return: -160.51268126910477\n",
      "==== Summary of results ====\n",
      "Return:\n",
      "[20.24943863843365, 20.111956980829255, 20.486213203327488, 20.49101152160747, 20.99229181766702, 20.77587589122503, 20.291208391452464, 19.737570810377093, 20.710883522544908, 20.900919072981736]\n",
      "[-168.00284011543442, -169.5717278232032, -165.29452757932094, -165.23983866416648, -159.5107720112938, -161.98407964684114, -167.52315401301573, -173.87915621291083, -162.7268531711045, -160.51268126910477]\n",
      "Average, std: -165.4245630506396, 4.218955106445943\n",
      "\n",
      "Speed, mean (m/s):\n",
      "[20.24943863843365, 20.111956980829255, 20.486213203327488, 20.49101152160747, 20.99229181766702, 20.77587589122503, 20.291208391452464, 19.737570810377093, 20.710883522544908, 20.900919072981736]\n",
      "Average, std: 20.47473698504461, 0.3682127047167938\n",
      "\n",
      "Speed, std (m/s):\n",
      "[3.7163822054498, 3.9627983930253725, 3.6717945731311734, 3.6571440786306058, 3.650109875798887, 3.4751571910191164, 3.8643490279402983, 3.9746402700578862, 3.64629291102444, 3.471143333872259]\n",
      "Average, std: 3.7089811859949835, 0.1678981686372917\n",
      "\n",
      "Outflows (veh/hr):\n",
      "[1206.0, 1206.0, 1206.0, 1206.0, 1206.0, 1206.0, 1206.0, 1206.0, 1206.0, 1188.0]\n",
      "Average, std: 1204.2, 5.4\n",
      "Inflows (veh/hr):\n",
      "[1188.0, 1188.0, 1188.0, 1188.0, 1188.0, 1188.0, 1188.0, 1188.0, 1188.0, 1188.0]\n",
      "Average, std: 1188.0, 0.0\n",
      "Throughput efficiency (veh/hr):\n",
      "[1.0151515151515151, 1.0151515151515151, 1.0151515151515151, 1.0151515151515151, 1.0151515151515151, 1.0151515151515151, 1.0151515151515151, 1.0151515151515151, 1.0151515151515151, 1.0]\n",
      "Average, std: 1.0136363636363637, 0.004545454545454542\n",
      "\u001b[0m"
     ]
    }
   ],
   "source": [
    "!python flow/visualize/visualizer_rllib.py\\\n",
    "/home/michael/ray_results/grid_0/PPO_TrafficLightGridBenchmarkEnv-v0_2e641_00000_0_2022-10-29_02-42-04/ 56\\\n",
    "--num_rollouts 10"
   ]
  }
 ],
 "metadata": {
  "kernelspec": {
   "display_name": "Python 3 (ipykernel)",
   "language": "python",
   "name": "python3"
  },
  "language_info": {
   "codemirror_mode": {
    "name": "ipython",
    "version": 3
   },
   "file_extension": ".py",
   "mimetype": "text/x-python",
   "name": "python",
   "nbconvert_exporter": "python",
   "pygments_lexer": "ipython3",
   "version": "3.7.3"
  }
 },
 "nbformat": 4,
 "nbformat_minor": 5
}
