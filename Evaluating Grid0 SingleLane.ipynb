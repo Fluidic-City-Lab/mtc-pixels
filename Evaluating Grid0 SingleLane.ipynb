{
 "cells": [
  {
   "cell_type": "code",
   "execution_count": 1,
   "id": "7130b8e3",
   "metadata": {
    "scrolled": false
   },
   "outputs": [
    {
     "name": "stdout",
     "output_type": "stream",
     "text": [
      "2023-01-01 15:09:35,852\tINFO services.py:1247 -- View the Ray dashboard at \u001b[1m\u001b[32mhttp://127.0.0.1:8265\u001b[39m\u001b[22m\n",
      "2023-01-01 15:09:36,414\tINFO trainer.py:720 -- Current log_level is WARN. For more information, set 'log_level': 'INFO' / 'DEBUG' or use the -v and -vv flags.\n",
      "2023-01-01 15:09:37,550\tWARNING util.py:55 -- Install gputil for GPU system monitoring.\n",
      "2023-01-01 15:09:37,572\tINFO trainable.py:383 -- Restored on 192.168.1.65 from checkpoint: /home/michael/ray_results/grid_0/PPO_TrafficLightGridPOEnv-v0_60823_00000_0_2022-12-09_21-04-35/checkpoint_49/checkpoint-49\n",
      "2023-01-01 15:09:37,572\tINFO trainable.py:390 -- Current state after restoring: {'_iteration': 49, '_timesteps_total': None, '_time_total': 2056.054161787033, '_episodes_total': 490}\n",
      "2023-01-01 15:09:39,798\tWARNING deprecation.py:34 -- DeprecationWarning: `compute_action` has been deprecated. Use `compute_single_action` instead. This will raise an error in the future!\n",
      "Round 0, Return: -43.29072372534055\n",
      " Retrying in 1 seconds\n",
      "^C\n",
      "Traceback (most recent call last):\n",
      "  File \"flow/visualize/visualizer_rllib.py\", line 397, in <module>\n",
      "    visualizer_rllib(args)\n",
      "  File \"flow/visualize/visualizer_rllib.py\", line 241, in visualizer_rllib\n",
      "    state, reward, done, _ = env.step(action)\n",
      "  File \"/home/michael/Desktop/flow/flow/envs/base.py\", line 370, in step\n",
      "    self.k.simulation.simulation_step()\n",
      "  File \"/home/michael/Desktop/flow/flow/core/kernel/simulation/traci.py\", line 122, in simulation_step\n",
      "    self.kernel_api.simulationStep()\n",
      "  File \"/home/michael/anaconda3/envs/flow/lib/python3.7/site-packages/traci/connection.py\", line 323, in simulationStep\n",
      "    result = self._sendExact()\n",
      "  File \"/home/michael/anaconda3/envs/flow/lib/python3.7/site-packages/traci/connection.py\", line 95, in _sendExact\n",
      "    result = self._recvExact()\n",
      "  File \"/home/michael/anaconda3/envs/flow/lib/python3.7/site-packages/traci/connection.py\", line 74, in _recvExact\n",
      "    t = self._socket.recv(4 - len(result))\n",
      "KeyboardInterrupt\n",
      "Error in atexit._run_exitfuncs:\n",
      "Traceback (most recent call last):\n",
      "  File \"/home/michael/Desktop/flow/flow/envs/base.py\", line 694, in terminate\n",
      "    self.k.close()\n",
      "  File \"/home/michael/Desktop/flow/flow/core/kernel/kernel.py\", line 114, in close\n",
      "    self.simulation.close()\n",
      "  File \"/home/michael/Desktop/flow/flow/core/kernel/simulation/traci.py\", line 185, in close\n",
      "    self.kernel_api.close()\n",
      "  File \"/home/michael/anaconda3/envs/flow/lib/python3.7/site-packages/traci/connection.py\", line 355, in close\n",
      "    self._sendExact()\n",
      "  File \"/home/michael/anaconda3/envs/flow/lib/python3.7/site-packages/traci/connection.py\", line 99, in _sendExact\n",
      "    raise FatalTraCIError(\"connection closed by SUMO\")\n",
      "traci.exceptions.FatalTraCIError: connection closed by SUMO\n"
     ]
    }
   ],
   "source": [
    "!python flow/visualize/visualizer_rllib.py\\\n",
    "/home/michael/ray_results/grid_0/PPO_TrafficLightGridPOEnv-v0_60823_00000_0_2022-12-09_21-04-35/ 49\\\n",
    "--num_rollouts 10"
   ]
  }
 ],
 "metadata": {
  "kernelspec": {
   "display_name": "Python 3 (ipykernel)",
   "language": "python",
   "name": "python3"
  },
  "language_info": {
   "codemirror_mode": {
    "name": "ipython",
    "version": 3
   },
   "file_extension": ".py",
   "mimetype": "text/x-python",
   "name": "python",
   "nbconvert_exporter": "python",
   "pygments_lexer": "ipython3",
   "version": "3.7.3"
  }
 },
 "nbformat": 4,
 "nbformat_minor": 5
}
