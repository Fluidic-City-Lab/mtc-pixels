{
 "cells": [
  {
   "cell_type": "code",
   "execution_count": 1,
   "id": "1375af72",
   "metadata": {
    "scrolled": false
   },
   "outputs": [
    {
     "name": "stdout",
     "output_type": "stream",
     "text": [
      "2022-07-08 11:09:44,313\tWARNING services.py:597 -- setpgrp failed, processes may not be cleaned up properly: [Errno 1] Operation not permitted.\n",
      "2022-07-08 11:09:44,313\tINFO resource_spec.py:216 -- Starting Ray with 29.3 GiB memory available for workers and up to 19.53 GiB for objects. You can adjust these settings with ray.init(memory=<bytes>, object_store_memory=<bytes>).\n",
      "2022-07-08 11:09:44,553\tWARNING services.py:1354 -- WARNING: The object store is using /tmp instead of /dev/shm because /dev/shm has only 16643108864 bytes available. This may slow down performance! You may be able to free up space by deleting files in /dev/shm or terminating any running plasma_store_server processes. If you are inside a Docker container, you may need to pass an argument with the flag '--shm-size' to 'docker run'.\n",
      "hello []\n",
      "False\n",
      "2022-07-08 11:09:44,653\tINFO ray_trial_executor.py:121 -- Trial PPO_WaveAttenuationPOEnv-v0_61a8d8f2: Setting up new remote runner.\n",
      "== Status ==\n",
      "Memory usage on this node: 6.3/31.3 GiB\n",
      "Using FIFO scheduling algorithm.\n",
      "Resources requested: 6/6 CPUs, 0/0 GPUs, 0.0/29.3 GiB heap, 0.0/13.43 GiB objects\n",
      "Result logdir: /home/michael/ray_results/stabilizing_the_ring\n",
      "Number of trials: 1 (1 RUNNING)\n",
      "+--------------------------------------+----------+-------+\n",
      "| Trial name                           | status   | loc   |\n",
      "|--------------------------------------+----------+-------|\n",
      "| PPO_WaveAttenuationPOEnv-v0_61a8d8f2 | RUNNING  |       |\n",
      "+--------------------------------------+----------+-------+\n",
      "\n",
      "\n",
      "\u001b[2m\u001b[36m(pid=31479)\u001b[0m 2022-07-08 11:09:45,943\tINFO trainer.py:371 -- Tip: set 'eager': true or the --eager flag to enable TensorFlow eager execution\n",
      "\u001b[2m\u001b[36m(pid=31479)\u001b[0m 2022-07-08 11:09:46,106\tINFO trainer.py:512 -- Current log_level is WARN. For more information, set 'log_level': 'INFO' / 'DEBUG' or use the -v and -vv flags.\n",
      "\u001b[2m\u001b[36m(pid=31479)\u001b[0m 2022-07-08 11:09:49,381\tWARNING util.py:45 -- Install gputil for GPU system monitoring.\n",
      "\u001b[2m\u001b[36m(pid=31482)\u001b[0m \n",
      "\u001b[2m\u001b[36m(pid=31482)\u001b[0m -----------------------\n",
      "\u001b[2m\u001b[36m(pid=31482)\u001b[0m ring length: 244\n",
      "\u001b[2m\u001b[36m(pid=31482)\u001b[0m v_max: 4.379503211387676\n",
      "\u001b[2m\u001b[36m(pid=31482)\u001b[0m -----------------------\n",
      "\u001b[2m\u001b[36m(pid=31480)\u001b[0m \n",
      "\u001b[2m\u001b[36m(pid=31480)\u001b[0m -----------------------\n",
      "\u001b[2m\u001b[36m(pid=31480)\u001b[0m ring length: 257\n",
      "\u001b[2m\u001b[36m(pid=31480)\u001b[0m v_max: 4.997304682316517\n",
      "\u001b[2m\u001b[36m(pid=31480)\u001b[0m -----------------------\n",
      "\u001b[2m\u001b[36m(pid=31478)\u001b[0m \n",
      "\u001b[2m\u001b[36m(pid=31478)\u001b[0m -----------------------\n",
      "\u001b[2m\u001b[36m(pid=31478)\u001b[0m ring length: 227\n",
      "\u001b[2m\u001b[36m(pid=31478)\u001b[0m v_max: 3.570869368805752\n",
      "\u001b[2m\u001b[36m(pid=31478)\u001b[0m -----------------------\n",
      "\u001b[2m\u001b[36m(pid=31481)\u001b[0m \n",
      "\u001b[2m\u001b[36m(pid=31481)\u001b[0m -----------------------\n",
      "\u001b[2m\u001b[36m(pid=31481)\u001b[0m ring length: 255\n",
      "\u001b[2m\u001b[36m(pid=31481)\u001b[0m v_max: 4.902299776966978\n",
      "\u001b[2m\u001b[36m(pid=31481)\u001b[0m -----------------------\n",
      "\u001b[2m\u001b[36m(pid=31484)\u001b[0m \n",
      "\u001b[2m\u001b[36m(pid=31484)\u001b[0m -----------------------\n",
      "\u001b[2m\u001b[36m(pid=31484)\u001b[0m ring length: 234\n",
      "\u001b[2m\u001b[36m(pid=31484)\u001b[0m v_max: 3.903915223349057\n",
      "\u001b[2m\u001b[36m(pid=31484)\u001b[0m -----------------------\n",
      "^C\n"
     ]
    }
   ],
   "source": [
    "!python examples/train.py singleagent_ring"
   ]
  }
 ],
 "metadata": {
  "kernelspec": {
   "display_name": "Python 3",
   "language": "python",
   "name": "python3"
  },
  "language_info": {
   "codemirror_mode": {
    "name": "ipython",
    "version": 3
   },
   "file_extension": ".py",
   "mimetype": "text/x-python",
   "name": "python",
   "nbconvert_exporter": "python",
   "pygments_lexer": "ipython3",
   "version": "3.7.3"
  }
 },
 "nbformat": 4,
 "nbformat_minor": 5
}
