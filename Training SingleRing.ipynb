{
 "cells": [
  {
   "cell_type": "code",
   "execution_count": 1,
   "id": "1375af72",
   "metadata": {
    "scrolled": false
   },
   "outputs": [
    {
     "name": "stdout",
     "output_type": "stream",
     "text": [
      "2022-07-07 11:40:08,034\tWARNING services.py:597 -- setpgrp failed, processes may not be cleaned up properly: [Errno 1] Operation not permitted.\n",
      "2022-07-07 11:40:08,035\tINFO resource_spec.py:216 -- Starting Ray with 29.3 GiB memory available for workers and up to 19.53 GiB for objects. You can adjust these settings with ray.init(memory=<bytes>, object_store_memory=<bytes>).\n",
      "2022-07-07 11:40:08,283\tWARNING services.py:1354 -- WARNING: The object store is using /tmp instead of /dev/shm because /dev/shm has only 16515506176 bytes available. This may slow down performance! You may be able to free up space by deleting files in /dev/shm or terminating any running plasma_store_server processes. If you are inside a Docker container, you may need to pass an argument with the flag '--shm-size' to 'docker run'.\n",
      "hello []\n",
      "False\n",
      "2022-07-07 11:40:08,385\tINFO ray_trial_executor.py:121 -- Trial PPO_WaveAttenuationPOEnv-v0_76462294: Setting up new remote runner.\n",
      "== Status ==\n",
      "Memory usage on this node: 16.2/31.3 GiB\n",
      "Using FIFO scheduling algorithm.\n",
      "Resources requested: 6/6 CPUs, 0/0 GPUs, 0.0/29.3 GiB heap, 0.0/13.43 GiB objects\n",
      "Result logdir: /home/michael/ray_results/stabilizing_the_ring\n",
      "Number of trials: 1 (1 RUNNING)\n",
      "+--------------------------------------+----------+-------+\n",
      "| Trial name                           | status   | loc   |\n",
      "|--------------------------------------+----------+-------|\n",
      "| PPO_WaveAttenuationPOEnv-v0_76462294 | RUNNING  |       |\n",
      "+--------------------------------------+----------+-------+\n",
      "\n",
      "\n",
      "\u001b[2m\u001b[36m(pid=9755)\u001b[0m 2022-07-07 11:40:09,770\tINFO trainer.py:371 -- Tip: set 'eager': true or the --eager flag to enable TensorFlow eager execution\n",
      "\u001b[2m\u001b[36m(pid=9755)\u001b[0m 2022-07-07 11:40:09,936\tINFO trainer.py:512 -- Current log_level is WARN. For more information, set 'log_level': 'INFO' / 'DEBUG' or use the -v and -vv flags.\n",
      "\u001b[2m\u001b[36m(pid=9755)\u001b[0m 2022-07-07 11:40:13,531\tWARNING util.py:45 -- Install gputil for GPU system monitoring.\n",
      "\u001b[2m\u001b[36m(pid=9752)\u001b[0m \n",
      "\u001b[2m\u001b[36m(pid=9752)\u001b[0m -----------------------\n",
      "\u001b[2m\u001b[36m(pid=9752)\u001b[0m ring length: 254\n",
      "\u001b[2m\u001b[36m(pid=9752)\u001b[0m v_max: 4.854791141191876\n",
      "\u001b[2m\u001b[36m(pid=9752)\u001b[0m -----------------------\n",
      "\u001b[2m\u001b[36m(pid=9751)\u001b[0m \n",
      "\u001b[2m\u001b[36m(pid=9751)\u001b[0m -----------------------\n",
      "\u001b[2m\u001b[36m(pid=9751)\u001b[0m ring length: 242\n",
      "\u001b[2m\u001b[36m(pid=9751)\u001b[0m v_max: 4.2844067680020546\n",
      "\u001b[2m\u001b[36m(pid=9751)\u001b[0m -----------------------\n",
      "\u001b[2m\u001b[36m(pid=9753)\u001b[0m \n",
      "\u001b[2m\u001b[36m(pid=9753)\u001b[0m -----------------------\n",
      "\u001b[2m\u001b[36m(pid=9753)\u001b[0m ring length: 229\n",
      "\u001b[2m\u001b[36m(pid=9753)\u001b[0m v_max: 3.666034803266416\n",
      "\u001b[2m\u001b[36m(pid=9753)\u001b[0m -----------------------\n",
      "\u001b[2m\u001b[36m(pid=9754)\u001b[0m \n",
      "\u001b[2m\u001b[36m(pid=9754)\u001b[0m -----------------------\n",
      "\u001b[2m\u001b[36m(pid=9754)\u001b[0m ring length: 238\n",
      "\u001b[2m\u001b[36m(pid=9754)\u001b[0m v_max: 4.094180836186086\n",
      "\u001b[2m\u001b[36m(pid=9754)\u001b[0m -----------------------\n",
      "\u001b[2m\u001b[36m(pid=9756)\u001b[0m \n",
      "\u001b[2m\u001b[36m(pid=9756)\u001b[0m -----------------------\n",
      "\u001b[2m\u001b[36m(pid=9756)\u001b[0m ring length: 255\n",
      "\u001b[2m\u001b[36m(pid=9756)\u001b[0m v_max: 4.902299776966978\n",
      "\u001b[2m\u001b[36m(pid=9756)\u001b[0m -----------------------\n",
      "^C\n"
     ]
    }
   ],
   "source": [
    "!python examples/train.py singleagent_ring"
   ]
  }
 ],
 "metadata": {
  "kernelspec": {
   "display_name": "Python 3",
   "language": "python",
   "name": "python3"
  },
  "language_info": {
   "codemirror_mode": {
    "name": "ipython",
    "version": 3
   },
   "file_extension": ".py",
   "mimetype": "text/x-python",
   "name": "python",
   "nbconvert_exporter": "python",
   "pygments_lexer": "ipython3",
   "version": "3.7.3"
  }
 },
 "nbformat": 4,
 "nbformat_minor": 5
}
