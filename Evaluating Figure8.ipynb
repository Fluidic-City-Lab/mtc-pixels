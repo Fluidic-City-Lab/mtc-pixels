{
 "cells": [
  {
   "cell_type": "code",
   "execution_count": null,
   "id": "bce4747c",
   "metadata": {},
   "outputs": [],
   "source": [
    "!python flow/visualize/visualizer_rllib.py\\\n",
    "/home/michael/ray_results/singleagent_figure_eight/PPO_WaveAttenuationPOEnv-v0_fd1ac_00000_0_2022-08-01_09-19-43/ 111\\\n",
    "--num_rollouts 10"
   ]
  }
 ],
 "metadata": {
  "kernelspec": {
   "display_name": "Python 3",
   "language": "python",
   "name": "python3"
  },
  "language_info": {
   "codemirror_mode": {
    "name": "ipython",
    "version": 3
   },
   "file_extension": ".py",
   "mimetype": "text/x-python",
   "name": "python",
   "nbconvert_exporter": "python",
   "pygments_lexer": "ipython3",
   "version": "3.7.3"
  }
 },
 "nbformat": 4,
 "nbformat_minor": 5
}
