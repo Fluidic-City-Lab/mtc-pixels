{
 "cells": [
  {
   "cell_type": "code",
   "execution_count": 1,
   "id": "7130b8e3",
   "metadata": {
    "scrolled": false
   },
   "outputs": [
    {
     "name": "stderr",
     "output_type": "stream",
     "text": [
      "2023-05-13 17:03:03,394\tINFO services.py:1247 -- View the Ray dashboard at \u001b[1m\u001b[32mhttp://127.0.0.1:8265\u001b[39m\u001b[22m\n",
      "2023-05-13 17:03:03,964\tINFO trainer.py:706 -- Tip: set framework=tfe or the --eager flag to enable TensorFlow eager execution\n",
      "2023-05-13 17:03:03,965\tINFO trainer.py:720 -- Current log_level is WARN. For more information, set 'log_level': 'INFO' / 'DEBUG' or use the -v and -vv flags.\n"
     ]
    },
    {
     "name": "stdout",
     "output_type": "stream",
     "text": [
      "WARNING:tensorflow:From /home/michael/anaconda3/envs/flow/lib/python3.7/site-packages/tensorflow_core/python/ops/resource_variable_ops.py:1630: calling BaseResourceVariable.__init__ (from tensorflow.python.ops.resource_variable_ops) with constraint is deprecated and will be removed in a future version.\n",
      "Instructions for updating:\n",
      "If using Keras pass *_constraint arguments to layers.\n"
     ]
    },
    {
     "name": "stderr",
     "output_type": "stream",
     "text": [
      "WARNING:tensorflow:From /home/michael/anaconda3/envs/flow/lib/python3.7/site-packages/tensorflow_core/python/ops/resource_variable_ops.py:1630: calling BaseResourceVariable.__init__ (from tensorflow.python.ops.resource_variable_ops) with constraint is deprecated and will be removed in a future version.\n",
      "Instructions for updating:\n",
      "If using Keras pass *_constraint arguments to layers.\n"
     ]
    },
    {
     "name": "stdout",
     "output_type": "stream",
     "text": [
      "WARNING:tensorflow:From /home/michael/anaconda3/envs/flow/lib/python3.7/site-packages/tensorflow_core/python/ops/math_grad.py:1424: where (from tensorflow.python.ops.array_ops) is deprecated and will be removed in a future version.\n",
      "Instructions for updating:\n",
      "Use tf.where in 2.0, which has the same broadcast rule as np.where\n"
     ]
    },
    {
     "name": "stderr",
     "output_type": "stream",
     "text": [
      "WARNING:tensorflow:From /home/michael/anaconda3/envs/flow/lib/python3.7/site-packages/tensorflow_core/python/ops/math_grad.py:1424: where (from tensorflow.python.ops.array_ops) is deprecated and will be removed in a future version.\n",
      "Instructions for updating:\n",
      "Use tf.where in 2.0, which has the same broadcast rule as np.where\n",
      "2023-05-13 17:03:06,592\tWARNING util.py:55 -- Install gputil for GPU system monitoring.\n",
      "2023-05-13 17:03:06,662\tINFO trainable.py:383 -- Restored on 192.168.1.65 from checkpoint: /home/michael/Desktop/flow/michael_files/int_trained_policies/Wu/checkpoint_142/checkpoint-142\n",
      "2023-05-13 17:03:06,663\tINFO trainable.py:390 -- Current state after restoring: {'_iteration': 142, '_timesteps_total': None, '_time_total': 464.3728437423706, '_episodes_total': 1420}\n"
     ]
    },
    {
     "name": "stdout",
     "output_type": "stream",
     "text": [
      "<class 'flow.envs.traffic_light_grid.TrafficLightGridPOEnv'>\n",
      "0\n"
     ]
    },
    {
     "name": "stderr",
     "output_type": "stream",
     "text": [
      "2023-05-13 17:03:08,884\tWARNING deprecation.py:34 -- DeprecationWarning: `compute_action` has been deprecated. Use `compute_single_action` instead. This will raise an error in the future!\n"
     ]
    },
    {
     "name": "stdout",
     "output_type": "stream",
     "text": [
      "Round 0, Return: -27.93836088542459\n",
      "Round 1, Return: -28.00677055262025\n",
      "Round 2, Return: -135.5043720202675\n",
      "Round 3, Return: -28.243205480415295\n",
      "Round 4, Return: -28.35119588266161\n",
      "==== Summary of results ====\n",
      "Return:\n",
      "[7.649017324046059, 7.6076044597887424, 6.431696033293823, 7.339343981345104, 7.394962841235246]\n",
      "[-27.93836088542459, -28.00677055262025, -135.5043720202675, -28.243205480415295, -28.35119588266161]\n",
      "Average, std: -49.60878096427785, 42.94805993833929\n",
      "\n",
      "Speed, mean (m/s):\n",
      "[7.649017324046059, 7.6076044597887424, 6.431696033293823, 7.339343981345104, 7.394962841235246]\n",
      "Average, std: 7.284524927941796, 0.44266327509098796\n",
      "\n",
      "Speed, std (m/s):\n",
      "[4.107383222207787, 4.146667483040231, 5.306487339631065, 4.4657612809194625, 4.339670357728266]\n",
      "Average, std: 4.473193936705362, 0.4365085771571359\n",
      "\n",
      "Num Eastwest Standstill:\n",
      "[0.0, 0.0, 3.0, 0.0, 0.0]\n",
      "Average, std: 0.6, 1.2\n",
      "\n",
      "Outflows (veh/hr):\n",
      "[1080.0, 1080.0, 720.0, 1080.0, 1080.0]\n",
      "Average, std: 1008.0, 144.0\n",
      "Inflows (veh/hr):\n",
      "[3780.0, 3780.0, 3780.0, 3780.0, 3780.0]\n",
      "Average, std: 3780.0, 0.0\n",
      "Throughput efficiency (veh/hr):\n",
      "[0.2857142857142857, 0.2857142857142857, 0.19047619047619047, 0.2857142857142857, 0.2857142857142857]\n",
      "Average, std: 0.2666666666666666, 0.03809523809523809\n"
     ]
    }
   ],
   "source": [
    "%run ../../flow/visualize/visualizer_rllib.py /home/michael/Desktop/flow/michael_files/int_trained_policies/Wu/ 142 --num_rollouts 5"
   ]
  },
  {
   "cell_type": "code",
   "execution_count": null,
   "id": "fd996dfe",
   "metadata": {},
   "outputs": [],
   "source": [
    "\n",
    "\n"
   ]
  }
 ],
 "metadata": {
  "kernelspec": {
   "display_name": "Python 3 (ipykernel)",
   "language": "python",
   "name": "python3"
  },
  "language_info": {
   "codemirror_mode": {
    "name": "ipython",
    "version": 3
   },
   "file_extension": ".py",
   "mimetype": "text/x-python",
   "name": "python",
   "nbconvert_exporter": "python",
   "pygments_lexer": "ipython3",
   "version": "3.7.3"
  }
 },
 "nbformat": 4,
 "nbformat_minor": 5
}
