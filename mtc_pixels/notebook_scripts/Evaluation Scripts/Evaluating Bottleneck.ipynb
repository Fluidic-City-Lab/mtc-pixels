{
 "cells": [
  {
   "cell_type": "code",
   "execution_count": null,
   "id": "02c712e1",
   "metadata": {
    "scrolled": false
   },
   "outputs": [
    {
     "name": "stderr",
     "output_type": "stream",
     "text": [
      "2023-05-18 18:38:07,395\tINFO services.py:1247 -- View the Ray dashboard at \u001b[1m\u001b[32mhttp://127.0.0.1:8266\u001b[39m\u001b[22m\n",
      "2023-05-18 18:38:07,961\tINFO trainer.py:706 -- Tip: set framework=tfe or the --eager flag to enable TensorFlow eager execution\n",
      "2023-05-18 18:38:07,963\tINFO trainer.py:720 -- Current log_level is WARN. For more information, set 'log_level': 'INFO' / 'DEBUG' or use the -v and -vv flags.\n"
     ]
    },
    {
     "name": "stdout",
     "output_type": "stream",
     "text": [
      "WARNING:tensorflow:From /home/michael/anaconda3/envs/flow/lib/python3.7/site-packages/tensorflow_core/python/ops/resource_variable_ops.py:1630: calling BaseResourceVariable.__init__ (from tensorflow.python.ops.resource_variable_ops) with constraint is deprecated and will be removed in a future version.\n",
      "Instructions for updating:\n",
      "If using Keras pass *_constraint arguments to layers.\n"
     ]
    },
    {
     "name": "stderr",
     "output_type": "stream",
     "text": [
      "WARNING:tensorflow:From /home/michael/anaconda3/envs/flow/lib/python3.7/site-packages/tensorflow_core/python/ops/resource_variable_ops.py:1630: calling BaseResourceVariable.__init__ (from tensorflow.python.ops.resource_variable_ops) with constraint is deprecated and will be removed in a future version.\n",
      "Instructions for updating:\n",
      "If using Keras pass *_constraint arguments to layers.\n",
      "Error: tcpip::Socket::recvAndCheck @ recv: peer shutdown\n",
      "Quitting (on error).\n"
     ]
    },
    {
     "name": "stdout",
     "output_type": "stream",
     "text": [
      "WARNING:tensorflow:From /home/michael/anaconda3/envs/flow/lib/python3.7/site-packages/tensorflow_core/python/ops/math_grad.py:1424: where (from tensorflow.python.ops.array_ops) is deprecated and will be removed in a future version.\n",
      "Instructions for updating:\n",
      "Use tf.where in 2.0, which has the same broadcast rule as np.where\n"
     ]
    },
    {
     "name": "stderr",
     "output_type": "stream",
     "text": [
      "WARNING:tensorflow:From /home/michael/anaconda3/envs/flow/lib/python3.7/site-packages/tensorflow_core/python/ops/math_grad.py:1424: where (from tensorflow.python.ops.array_ops) is deprecated and will be removed in a future version.\n",
      "Instructions for updating:\n",
      "Use tf.where in 2.0, which has the same broadcast rule as np.where\n",
      "2023-05-18 18:38:11,742\tWARNING util.py:55 -- Install gputil for GPU system monitoring.\n",
      "2023-05-18 18:38:11,817\tINFO trainable.py:383 -- Restored on 192.168.1.65 from checkpoint: /home/michael/Desktop/flow/michael_files/bn_trained_policies/Wu/checkpoint_22/checkpoint-22\n",
      "2023-05-18 18:38:11,817\tINFO trainable.py:390 -- Current state after restoring: {'_iteration': 22, '_timesteps_total': None, '_time_total': 640.0677964687347, '_episodes_total': 220}\n",
      "2023-05-18 18:38:15,168\tWARNING deprecation.py:34 -- DeprecationWarning: `compute_action` has been deprecated. Use `compute_single_action` instead. This will raise an error in the future!\n",
      "Error: tcpip::Socket::recvAndCheck @ recv: peer shutdown\n",
      "Quitting (on error).\n"
     ]
    },
    {
     "name": "stdout",
     "output_type": "stream",
     "text": [
      "Round 0, Return: 1163.1600000000144\n",
      "Round 1, Return: 1099.0800000000183\n",
      "Round 2, Return: 1149.8400000000202\n",
      "Round 3, Return: 1125.3600000000213\n",
      "Round 4, Return: 1159.200000000017\n",
      "Round 5, Return: 1190.8800000000128\n",
      "Round 6, Return: 1157.0400000000157\n"
     ]
    }
   ],
   "source": [
    "%run ../../flow/visualize/visualizer_rllib.py /home/michael/Desktop/flow/michael_files/bn_trained_policies/Wu/ 22 --num_rollouts 10"
   ]
  },
  {
   "cell_type": "code",
   "execution_count": null,
   "id": "2031177d",
   "metadata": {},
   "outputs": [],
   "source": []
  }
 ],
 "metadata": {
  "kernelspec": {
   "display_name": "Python 3 (ipykernel)",
   "language": "python",
   "name": "python3"
  },
  "language_info": {
   "codemirror_mode": {
    "name": "ipython",
    "version": 3
   },
   "file_extension": ".py",
   "mimetype": "text/x-python",
   "name": "python",
   "nbconvert_exporter": "python",
   "pygments_lexer": "ipython3",
   "version": "3.7.3"
  }
 },
 "nbformat": 4,
 "nbformat_minor": 5
}
